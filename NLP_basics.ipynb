{
 "cells": [
  {
   "cell_type": "code",
   "execution_count": 130,
   "metadata": {
    "_cell_guid": "b1076dfc-b9ad-4769-8c92-a6c4dae69d19",
    "_uuid": "8f2839f25d086af736a60e9eeb907d3b93b6e0e5",
    "execution": {
     "iopub.execute_input": "2022-07-21T10:32:38.080326Z",
     "iopub.status.busy": "2022-07-21T10:32:38.079943Z",
     "iopub.status.idle": "2022-07-21T10:32:38.573177Z",
     "shell.execute_reply": "2022-07-21T10:32:38.572010Z",
     "shell.execute_reply.started": "2022-07-21T10:32:38.080295Z"
    }
   },
   "outputs": [
    {
     "name": "stdout",
     "output_type": "stream",
     "text": [
      "Python Current Version:- 3.6.13 |Anaconda, Inc.| (default, Mar 16 2021, 11:37:27) [MSC v.1916 64 bit (AMD64)]\n",
      "TensorFlow Version:-     1.5.0\n",
      "TF-Keras Version:-       2.1.2-tf\n"
     ]
    }
   ],
   "source": [
    "import sys\n",
    "import time\n",
    "import os\n",
    "from os.path import join \n",
    "\n",
    "os.environ[\"CUDA_VISIBLE_DEVICES\"] = \"0\" # \"-1\" to run on CPU\n",
    "\n",
    "import numpy as np # linear algebra\n",
    "import pandas as pd # data processing, CSV file I/O (e.g. pd.read_csv)\n",
    "from tqdm import tqdm\n",
    "\n",
    "## Scikit-learn\n",
    "from sklearn.model_selection import train_test_split\n",
    "from sklearn.feature_extraction.text import CountVectorizer, TfidfVectorizer\n",
    "from sklearn.preprocessing import LabelEncoder, OneHotEncoder\n",
    "\n",
    "## TensorFlow\n",
    "import tensorflow as tf\n",
    "from tensorflow.python.client import device_lib\n",
    "\n",
    "## Visualization\n",
    "import matplotlib.pyplot as plt\n",
    "%matplotlib inline\n",
    "\n",
    "import seaborn as sns\n",
    "from plotly import graph_objs as go\n",
    "import plotly.express as px\n",
    "import plotly.figure_factory as ff\n",
    "\n",
    "## text processing\n",
    "import re\n",
    "import nltk\n",
    "from nltk import word_tokenize\n",
    "from nltk.corpus import stopwords\n",
    "from nltk.stem.porter import PorterStemmer\n",
    "from nltk.stem import WordNetLemmatizer\n",
    "stop_words = stopwords.words('english')\n",
    "\n",
    "print(\"Python Current Version:-\", sys.version)\n",
    "print(\"TensorFlow Version:-    \", tf.__version__)\n",
    "print(\"TF-Keras Version:-      \", tf.keras.__version__)"
   ]
  },
  {
   "cell_type": "markdown",
   "metadata": {},
   "source": [
    "# GPU settings"
   ]
  },
  {
   "cell_type": "code",
   "execution_count": 3,
   "metadata": {},
   "outputs": [
    {
     "name": "stdout",
     "output_type": "stream",
     "text": [
      "True\n",
      "True\n",
      "GPU available:  /device:GPU:0\n"
     ]
    }
   ],
   "source": [
    "print(tf.test.is_built_with_cuda())\n",
    "print(tf.test.is_gpu_available())\n",
    "print(\"GPU available: \", tf.test.gpu_device_name())"
   ]
  },
  {
   "cell_type": "markdown",
   "metadata": {},
   "source": [
    "# Download the datset from here:\n",
    "https://www.kaggle.com/competitions/feedback-prize-effectiveness/data"
   ]
  },
  {
   "cell_type": "code",
   "execution_count": 4,
   "metadata": {
    "execution": {
     "iopub.execute_input": "2022-07-21T09:45:48.562633Z",
     "iopub.status.busy": "2022-07-21T09:45:48.562212Z",
     "iopub.status.idle": "2022-07-21T09:45:48.755000Z",
     "shell.execute_reply": "2022-07-21T09:45:48.753974Z",
     "shell.execute_reply.started": "2022-07-21T09:45:48.562597Z"
    }
   },
   "outputs": [
    {
     "name": "stdout",
     "output_type": "stream",
     "text": [
      "(36765, 5)\n",
      "(10, 4)\n"
     ]
    },
    {
     "data": {
      "text/html": [
       "<div>\n",
       "<style scoped>\n",
       "    .dataframe tbody tr th:only-of-type {\n",
       "        vertical-align: middle;\n",
       "    }\n",
       "\n",
       "    .dataframe tbody tr th {\n",
       "        vertical-align: top;\n",
       "    }\n",
       "\n",
       "    .dataframe thead th {\n",
       "        text-align: right;\n",
       "    }\n",
       "</style>\n",
       "<table border=\"1\" class=\"dataframe\">\n",
       "  <thead>\n",
       "    <tr style=\"text-align: right;\">\n",
       "      <th></th>\n",
       "      <th>discourse_id</th>\n",
       "      <th>essay_id</th>\n",
       "      <th>discourse_text</th>\n",
       "      <th>discourse_type</th>\n",
       "      <th>discourse_effectiveness</th>\n",
       "    </tr>\n",
       "  </thead>\n",
       "  <tbody>\n",
       "    <tr>\n",
       "      <th>0</th>\n",
       "      <td>0013cc385424</td>\n",
       "      <td>007ACE74B050</td>\n",
       "      <td>Hi, i'm Isaac, i'm going to be writing about h...</td>\n",
       "      <td>Lead</td>\n",
       "      <td>Adequate</td>\n",
       "    </tr>\n",
       "    <tr>\n",
       "      <th>1</th>\n",
       "      <td>9704a709b505</td>\n",
       "      <td>007ACE74B050</td>\n",
       "      <td>On my perspective, I think that the face is a ...</td>\n",
       "      <td>Position</td>\n",
       "      <td>Adequate</td>\n",
       "    </tr>\n",
       "    <tr>\n",
       "      <th>2</th>\n",
       "      <td>c22adee811b6</td>\n",
       "      <td>007ACE74B050</td>\n",
       "      <td>I think that the face is a natural landform be...</td>\n",
       "      <td>Claim</td>\n",
       "      <td>Adequate</td>\n",
       "    </tr>\n",
       "    <tr>\n",
       "      <th>3</th>\n",
       "      <td>a10d361e54e4</td>\n",
       "      <td>007ACE74B050</td>\n",
       "      <td>If life was on Mars, we would know by now. The...</td>\n",
       "      <td>Evidence</td>\n",
       "      <td>Adequate</td>\n",
       "    </tr>\n",
       "    <tr>\n",
       "      <th>4</th>\n",
       "      <td>db3e453ec4e2</td>\n",
       "      <td>007ACE74B050</td>\n",
       "      <td>People thought that the face was formed by ali...</td>\n",
       "      <td>Counterclaim</td>\n",
       "      <td>Adequate</td>\n",
       "    </tr>\n",
       "  </tbody>\n",
       "</table>\n",
       "</div>"
      ],
      "text/plain": [
       "   discourse_id      essay_id  \\\n",
       "0  0013cc385424  007ACE74B050   \n",
       "1  9704a709b505  007ACE74B050   \n",
       "2  c22adee811b6  007ACE74B050   \n",
       "3  a10d361e54e4  007ACE74B050   \n",
       "4  db3e453ec4e2  007ACE74B050   \n",
       "\n",
       "                                      discourse_text discourse_type  \\\n",
       "0  Hi, i'm Isaac, i'm going to be writing about h...           Lead   \n",
       "1  On my perspective, I think that the face is a ...       Position   \n",
       "2  I think that the face is a natural landform be...          Claim   \n",
       "3  If life was on Mars, we would know by now. The...       Evidence   \n",
       "4  People thought that the face was formed by ali...   Counterclaim   \n",
       "\n",
       "  discourse_effectiveness  \n",
       "0                Adequate  \n",
       "1                Adequate  \n",
       "2                Adequate  \n",
       "3                Adequate  \n",
       "4                Adequate  "
      ]
     },
     "execution_count": 4,
     "metadata": {},
     "output_type": "execute_result"
    }
   ],
   "source": [
    "TRAIN_ESSAYS_PATH = \"../Feedback Prize - Predicting Effective Arguments/train\"\n",
    "TEST_ESSAYS_PATH  = \"../Feedback Prize - Predicting Effective Arguments/test\"\n",
    "\n",
    "train = pd.read_csv('../Feedback Prize - Predicting Effective Arguments/train.csv')\n",
    "test  = pd.read_csv('../Feedback Prize - Predicting Effective Arguments/test.csv')\n",
    "\n",
    "print(train.shape)\n",
    "print(test.shape)\n",
    "train.head()"
   ]
  },
  {
   "cell_type": "code",
   "execution_count": 128,
   "metadata": {},
   "outputs": [
    {
     "name": "stdout",
     "output_type": "stream",
     "text": [
      "(36765, 6)\n",
      "(10, 5)\n"
     ]
    },
    {
     "data": {
      "text/html": [
       "<div>\n",
       "<style scoped>\n",
       "    .dataframe tbody tr th:only-of-type {\n",
       "        vertical-align: middle;\n",
       "    }\n",
       "\n",
       "    .dataframe tbody tr th {\n",
       "        vertical-align: top;\n",
       "    }\n",
       "\n",
       "    .dataframe thead th {\n",
       "        text-align: right;\n",
       "    }\n",
       "</style>\n",
       "<table border=\"1\" class=\"dataframe\">\n",
       "  <thead>\n",
       "    <tr style=\"text-align: right;\">\n",
       "      <th></th>\n",
       "      <th>discourse_id</th>\n",
       "      <th>essay_id</th>\n",
       "      <th>discourse_text</th>\n",
       "      <th>discourse_type</th>\n",
       "      <th>discourse_effectiveness</th>\n",
       "      <th>essay_id_path</th>\n",
       "    </tr>\n",
       "  </thead>\n",
       "  <tbody>\n",
       "    <tr>\n",
       "      <th>0</th>\n",
       "      <td>0013cc385424</td>\n",
       "      <td>007ACE74B050</td>\n",
       "      <td>Hi, i'm Isaac, i'm going to be writing about h...</td>\n",
       "      <td>Lead</td>\n",
       "      <td>Adequate</td>\n",
       "      <td>C:/Users/JK/Downloads/feedback-prize-effective...</td>\n",
       "    </tr>\n",
       "    <tr>\n",
       "      <th>1</th>\n",
       "      <td>9704a709b505</td>\n",
       "      <td>007ACE74B050</td>\n",
       "      <td>On my perspective, I think that the face is a ...</td>\n",
       "      <td>Position</td>\n",
       "      <td>Adequate</td>\n",
       "      <td>C:/Users/JK/Downloads/feedback-prize-effective...</td>\n",
       "    </tr>\n",
       "    <tr>\n",
       "      <th>2</th>\n",
       "      <td>c22adee811b6</td>\n",
       "      <td>007ACE74B050</td>\n",
       "      <td>I think that the face is a natural landform be...</td>\n",
       "      <td>Claim</td>\n",
       "      <td>Adequate</td>\n",
       "      <td>C:/Users/JK/Downloads/feedback-prize-effective...</td>\n",
       "    </tr>\n",
       "    <tr>\n",
       "      <th>3</th>\n",
       "      <td>a10d361e54e4</td>\n",
       "      <td>007ACE74B050</td>\n",
       "      <td>If life was on Mars, we would know by now. The...</td>\n",
       "      <td>Evidence</td>\n",
       "      <td>Adequate</td>\n",
       "      <td>C:/Users/JK/Downloads/feedback-prize-effective...</td>\n",
       "    </tr>\n",
       "    <tr>\n",
       "      <th>4</th>\n",
       "      <td>db3e453ec4e2</td>\n",
       "      <td>007ACE74B050</td>\n",
       "      <td>People thought that the face was formed by ali...</td>\n",
       "      <td>Counterclaim</td>\n",
       "      <td>Adequate</td>\n",
       "      <td>C:/Users/JK/Downloads/feedback-prize-effective...</td>\n",
       "    </tr>\n",
       "  </tbody>\n",
       "</table>\n",
       "</div>"
      ],
      "text/plain": [
       "   discourse_id      essay_id  \\\n",
       "0  0013cc385424  007ACE74B050   \n",
       "1  9704a709b505  007ACE74B050   \n",
       "2  c22adee811b6  007ACE74B050   \n",
       "3  a10d361e54e4  007ACE74B050   \n",
       "4  db3e453ec4e2  007ACE74B050   \n",
       "\n",
       "                                      discourse_text discourse_type  \\\n",
       "0  Hi, i'm Isaac, i'm going to be writing about h...           Lead   \n",
       "1  On my perspective, I think that the face is a ...       Position   \n",
       "2  I think that the face is a natural landform be...          Claim   \n",
       "3  If life was on Mars, we would know by now. The...       Evidence   \n",
       "4  People thought that the face was formed by ali...   Counterclaim   \n",
       "\n",
       "  discourse_effectiveness                                      essay_id_path  \n",
       "0                Adequate  C:/Users/JK/Downloads/feedback-prize-effective...  \n",
       "1                Adequate  C:/Users/JK/Downloads/feedback-prize-effective...  \n",
       "2                Adequate  C:/Users/JK/Downloads/feedback-prize-effective...  \n",
       "3                Adequate  C:/Users/JK/Downloads/feedback-prize-effective...  \n",
       "4                Adequate  C:/Users/JK/Downloads/feedback-prize-effective...  "
      ]
     },
     "execution_count": 128,
     "metadata": {},
     "output_type": "execute_result"
    }
   ],
   "source": [
    "# Get full path of .txt file as a column\n",
    "train['essay_id_path'] = train['essay_id'].apply(lambda x: f'../feedback-prize-effectiveness/train/{x}.txt')\n",
    "test['essay_id_path']  = test['essay_id'].apply(lambda x: f'../feedback-prize-effectiveness/test/{x}.txt')\n",
    "\n",
    "print(train.shape)\n",
    "print(test.shape)\n",
    "train.head()"
   ]
  },
  {
   "cell_type": "code",
   "execution_count": 129,
   "metadata": {},
   "outputs": [
    {
     "data": {
      "text/plain": [
       "4191"
      ]
     },
     "execution_count": 129,
     "metadata": {},
     "output_type": "execute_result"
    }
   ],
   "source": [
    "# How many essays contain the trainset ?\n",
    "len(train.essay_id.unique())"
   ]
  },
  {
   "cell_type": "code",
   "execution_count": 5,
   "metadata": {
    "execution": {
     "iopub.execute_input": "2022-07-21T09:47:14.226118Z",
     "iopub.status.busy": "2022-07-21T09:47:14.225389Z",
     "iopub.status.idle": "2022-07-21T09:47:14.232549Z",
     "shell.execute_reply": "2022-07-21T09:47:14.231333Z",
     "shell.execute_reply.started": "2022-07-21T09:47:14.226073Z"
    }
   },
   "outputs": [],
   "source": [
    "def get_essay(essay_id, train=True):\n",
    "    if train:\n",
    "        PATH = TRAIN_ESSAYS_PATH\n",
    "    else:\n",
    "        PATH = TEST_ESSAYS_PATH\n",
    "    essay_path = join(PATH, f\"{essay_id}.txt\")\n",
    "    essay_text = open(essay_path, 'r').read()\n",
    "    return essay_text"
   ]
  },
  {
   "cell_type": "code",
   "execution_count": 6,
   "metadata": {
    "execution": {
     "iopub.execute_input": "2022-07-21T09:51:47.751525Z",
     "iopub.status.busy": "2022-07-21T09:51:47.751113Z",
     "iopub.status.idle": "2022-07-21T09:51:47.874856Z",
     "shell.execute_reply": "2022-07-21T09:51:47.873769Z",
     "shell.execute_reply.started": "2022-07-21T09:51:47.751491Z"
    }
   },
   "outputs": [
    {
     "data": {
      "text/html": [
       "<div>\n",
       "<style scoped>\n",
       "    .dataframe tbody tr th:only-of-type {\n",
       "        vertical-align: middle;\n",
       "    }\n",
       "\n",
       "    .dataframe tbody tr th {\n",
       "        vertical-align: top;\n",
       "    }\n",
       "\n",
       "    .dataframe thead th {\n",
       "        text-align: right;\n",
       "    }\n",
       "</style>\n",
       "<table border=\"1\" class=\"dataframe\">\n",
       "  <thead>\n",
       "    <tr style=\"text-align: right;\">\n",
       "      <th></th>\n",
       "      <th>discourse_id</th>\n",
       "      <th>essay_id</th>\n",
       "      <th>discourse_text</th>\n",
       "      <th>discourse_type</th>\n",
       "      <th>discourse_effectiveness</th>\n",
       "    </tr>\n",
       "  </thead>\n",
       "  <tbody>\n",
       "    <tr>\n",
       "      <th>count</th>\n",
       "      <td>36765</td>\n",
       "      <td>36765</td>\n",
       "      <td>36765</td>\n",
       "      <td>36765</td>\n",
       "      <td>36765</td>\n",
       "    </tr>\n",
       "    <tr>\n",
       "      <th>unique</th>\n",
       "      <td>36765</td>\n",
       "      <td>4191</td>\n",
       "      <td>36691</td>\n",
       "      <td>7</td>\n",
       "      <td>3</td>\n",
       "    </tr>\n",
       "    <tr>\n",
       "      <th>top</th>\n",
       "      <td>48636632cad4</td>\n",
       "      <td>4CA37D113612</td>\n",
       "      <td>Summer projects should be student-designed</td>\n",
       "      <td>Evidence</td>\n",
       "      <td>Adequate</td>\n",
       "    </tr>\n",
       "    <tr>\n",
       "      <th>freq</th>\n",
       "      <td>1</td>\n",
       "      <td>23</td>\n",
       "      <td>14</td>\n",
       "      <td>12105</td>\n",
       "      <td>20977</td>\n",
       "    </tr>\n",
       "  </tbody>\n",
       "</table>\n",
       "</div>"
      ],
      "text/plain": [
       "        discourse_id      essay_id  \\\n",
       "count          36765         36765   \n",
       "unique         36765          4191   \n",
       "top     48636632cad4  4CA37D113612   \n",
       "freq               1            23   \n",
       "\n",
       "                                     discourse_text discourse_type  \\\n",
       "count                                         36765          36765   \n",
       "unique                                        36691              7   \n",
       "top     Summer projects should be student-designed        Evidence   \n",
       "freq                                             14          12105   \n",
       "\n",
       "       discourse_effectiveness  \n",
       "count                    36765  \n",
       "unique                       3  \n",
       "top                   Adequate  \n",
       "freq                     20977  "
      ]
     },
     "execution_count": 6,
     "metadata": {},
     "output_type": "execute_result"
    }
   ],
   "source": [
    "train.describe()"
   ]
  },
  {
   "cell_type": "markdown",
   "metadata": {},
   "source": [
    "* There are only `4191` unique **essays** and `36691` unique **discourses** (around 9 times more)\n",
    "\n",
    "* Few **discourse text** are repeated since there are `36765` rows and `36691` **texts** which means that we use the same discourse text for different discourse type"
   ]
  },
  {
   "cell_type": "markdown",
   "metadata": {},
   "source": [
    "# Summary statistics of the training set"
   ]
  },
  {
   "cell_type": "code",
   "execution_count": 7,
   "metadata": {
    "execution": {
     "iopub.execute_input": "2022-07-21T09:59:50.026141Z",
     "iopub.status.busy": "2022-07-21T09:59:50.024974Z",
     "iopub.status.idle": "2022-07-21T09:59:50.437894Z",
     "shell.execute_reply": "2022-07-21T09:59:50.436749Z",
     "shell.execute_reply.started": "2022-07-21T09:59:50.026038Z"
    }
   },
   "outputs": [
    {
     "data": {
      "image/png": "[encoded data removed]",
      "text/plain": [
       "<Figure size 864x432 with 2 Axes>"
      ]
     },
     "metadata": {
      "needs_background": "light"
     },
     "output_type": "display_data"
    }
   ],
   "source": [
    "fig, ax = plt.subplots(nrows=1, ncols=2, figsize=(12, 6))\n",
    "\n",
    "sns.countplot(x=\"discourse_effectiveness\", data=train, order = ['Ineffective', 'Adequate', 'Effective'],\n",
    "              palette = ['lightcoral', 'lightyellow', 'lightgreen'], ax=ax[0])\n",
    "\n",
    "sns.countplot(x=\"discourse_type\", data=train,ax=ax[1])\n",
    "\n",
    "plt.tight_layout()\n",
    "plt.show()"
   ]
  },
  {
   "cell_type": "markdown",
   "metadata": {},
   "source": [
    "* The target (i.e. **discourse effectiveness**) is highly unbalanced\n",
    "  * There are 6462 ineffective discourses\n",
    "  * There are 20977 adequate discourses\n",
    "  * There are 9326 effective discourses\n",
    "\n",
    "\n",
    "* The same happens for the **discourse type**\n",
    "  * There are approximately 6 times more `Claims` or `Evidence` than `Counterclaims` discourses"
   ]
  },
  {
   "cell_type": "code",
   "execution_count": 8,
   "metadata": {
    "execution": {
     "iopub.execute_input": "2022-07-21T10:03:10.457014Z",
     "iopub.status.busy": "2022-07-21T10:03:10.456592Z",
     "iopub.status.idle": "2022-07-21T10:03:11.306993Z",
     "shell.execute_reply": "2022-07-21T10:03:11.305708Z",
     "shell.execute_reply.started": "2022-07-21T10:03:10.456980Z"
    }
   },
   "outputs": [
    {
     "data": {
      "image/png": "[encoded data removed]",
      "text/plain": [
       "<Figure size 1152x432 with 1 Axes>"
      ]
     },
     "metadata": {
      "needs_background": "light"
     },
     "output_type": "display_data"
    }
   ],
   "source": [
    "fig, ax = plt.subplots(nrows=1, ncols=1, figsize=(16, 6))\n",
    "\n",
    "sns.countplot(x = 'discourse_effectiveness',\n",
    "            hue = 'discourse_type', order = ['Ineffective', 'Adequate', 'Effective'] ,  data = train)\n",
    "plt.show()"
   ]
  },
  {
   "cell_type": "code",
   "execution_count": 9,
   "metadata": {
    "execution": {
     "iopub.execute_input": "2022-07-21T10:08:45.210176Z",
     "iopub.status.busy": "2022-07-21T10:08:45.208165Z",
     "iopub.status.idle": "2022-07-21T10:09:03.336463Z",
     "shell.execute_reply": "2022-07-21T10:09:03.335204Z",
     "shell.execute_reply.started": "2022-07-21T10:08:45.210096Z"
    }
   },
   "outputs": [
    {
     "data": {
      "text/html": [
       "        <script type=\"text/javascript\">\n",
       "        window.PlotlyConfig = {MathJaxConfig: 'local'};\n",
       "        if (window.MathJax && window.MathJax.Hub && window.MathJax.Hub.Config) {window.MathJax.Hub.Config({SVG: {font: \"STIX-Web\"}});}\n",
       "        if (typeof require !== 'undefined') {\n",
       "        require.undef(\"plotly\");\n",
       "        requirejs.config({\n",
       "            paths: {\n",
       "                'plotly': ['https://cdn.plot.ly/plotly-2.12.1.min']\n",
       "            }\n",
       "        });\n",
       "        require(['plotly'], function(Plotly) {\n",
       "            window._Plotly = Plotly;\n",
       "        });\n",
       "        }\n",
       "        </script>\n",
       "        "
      ]
     },
     "metadata": {},
     "output_type": "display_data"
    },
    {
     "data": {
      "application/vnd.plotly.v1+json": {
       "config": {
        "linkText": "Export to plot.ly",
        "plotlyServerURL": "https://plot.ly",
        "showLink": false
       },
       "data": [
        {
         "marker": {
          "color": [
           38013,
           36578,
           33395,
           26329,
           25958,
           22924,
           18083,
           17819,
           17686,
           17426,
           15973,
           14522,
           14011,
           12013,
           11507,
           10665,
           10462,
           10168,
           10092,
           9499,
           9424,
           8847,
           8331,
           8233,
           7887,
           7728,
           7345,
           7340,
           7335,
           7141,
           7140,
           6704,
           6417,
           6305,
           5599,
           5542,
           5534,
           5442,
           5385,
           5350,
           5312,
           5279,
           5276,
           5271,
           5179,
           5176,
           4926,
           4881,
           4754,
           4698,
           4662,
           4607,
           4473,
           4464,
           4440,
           4342,
           4307,
           4271,
           4200,
           4060,
           3857,
           3774,
           3716,
           3638,
           3613,
           3530,
           3390,
           3325,
           3310,
           3275,
           3239,
           3237,
           3235,
           3166,
           3161,
           3065,
           3024,
           2979,
           2957,
           2915,
           2899,
           2814,
           2754,
           2711,
           2710,
           2709,
           2685,
           2655,
           2653,
           2637,
           2546,
           2536,
           2531,
           2516,
           2473,
           2465,
           2419,
           2371
          ],
          "colorscale": [
           [
            0,
            "rgb(0,0,131)"
           ],
           [
            0.2,
            "rgb(0,60,170)"
           ],
           [
            0.4,
            "rgb(5,255,255)"
           ],
           [
            0.6,
            "rgb(255,255,0)"
           ],
           [
            0.8,
            "rgb(250,0,0)"
           ],
           [
            1,
            "rgb(128,0,0)"
           ]
          ]
         },
         "text": "Word counts",
         "type": "bar",
         "x": [
          "a",
          "and",
          "of",
          "that",
          "is",
          "in",
          "it",
          "be",
          "they",
          "for",
          "you",
          "have",
          "are",
          "not",
          "on",
          "can",
          "would",
          "students",
          "or",
          "their",
          "I",
          "people",
          "because",
          "with",
          "The",
          "will",
          "if",
          "we",
          "this",
          "do",
          "more",
          "but",
          "as",
          "should",
          "by",
          "what",
          "was",
          "could",
          "at",
          "school",
          "from",
          "your",
          "like",
          "get",
          "there",
          "all",
          "vote",
          "just"
         ],
         "y": [
          38013,
          36578,
          33395,
          26329,
          25958,
          22924,
          18083,
          17819,
          17686,
          17426,
          15973,
          14522,
          14011,
          12013,
          11507,
          10665,
          10462,
          10168,
          10092,
          9499,
          9424,
          8847,
          8331,
          8233,
          7887,
          7728,
          7345,
          7340,
          7335,
          7141,
          7140,
          6704,
          6417,
          6305,
          5599,
          5542,
          5534,
          5442,
          5385,
          5350,
          5312,
          5279,
          5276,
          5271,
          5179,
          5176,
          4926,
          4881
         ]
        }
       ],
       "layout": {
        "template": {
         "data": {
          "bar": [
           {
            "error_x": {
             "color": "#2a3f5f"
            },
            "error_y": {
             "color": "#2a3f5f"
            },
            "marker": {
             "line": {
              "color": "#E5ECF6",
              "width": 0.5
             },
             "pattern": {
              "fillmode": "overlay",
              "size": 10,
              "solidity": 0.2
             }
            },
            "type": "bar"
           }
          ],
          "barpolar": [
           {
            "marker": {
             "line": {
              "color": "#E5ECF6",
              "width": 0.5
             },
             "pattern": {
              "fillmode": "overlay",
              "size": 10,
              "solidity": 0.2
             }
            },
            "type": "barpolar"
           }
          ],
          "carpet": [
           {
            "aaxis": {
             "endlinecolor": "#2a3f5f",
             "gridcolor": "white",
             "linecolor": "white",
             "minorgridcolor": "white",
             "startlinecolor": "#2a3f5f"
            },
            "baxis": {
             "endlinecolor": "#2a3f5f",
             "gridcolor": "white",
             "linecolor": "white",
             "minorgridcolor": "white",
             "startlinecolor": "#2a3f5f"
            },
            "type": "carpet"
           }
          ],
          "choropleth": [
           {
            "colorbar": {
             "outlinewidth": 0,
             "ticks": ""
            },
            "type": "choropleth"
           }
          ],
          "contour": [
           {
            "colorbar": {
             "outlinewidth": 0,
             "ticks": ""
            },
            "colorscale": [
             [
              0,
              "#0d0887"
             ],
             [
              0.1111111111111111,
              "#46039f"
             ],
             [
              0.2222222222222222,
              "#7201a8"
             ],
             [
              0.3333333333333333,
              "#9c179e"
             ],
             [
              0.4444444444444444,
              "#bd3786"
             ],
             [
              0.5555555555555556,
              "#d8576b"
             ],
             [
              0.6666666666666666,
              "#ed7953"
             ],
             [
              0.7777777777777778,
              "#fb9f3a"
             ],
             [
              0.8888888888888888,
              "#fdca26"
             ],
             [
              1,
              "#f0f921"
             ]
            ],
            "type": "contour"
           }
          ],
          "contourcarpet": [
           {
            "colorbar": {
             "outlinewidth": 0,
             "ticks": ""
            },
            "type": "contourcarpet"
           }
          ],
          "heatmap": [
           {
            "colorbar": {
             "outlinewidth": 0,
             "ticks": ""
            },
            "colorscale": [
             [
              0,
              "#0d0887"
             ],
             [
              0.1111111111111111,
              "#46039f"
             ],
             [
              0.2222222222222222,
              "#7201a8"
             ],
             [
              0.3333333333333333,
              "#9c179e"
             ],
             [
              0.4444444444444444,
              "#bd3786"
             ],
             [
              0.5555555555555556,
              "#d8576b"
             ],
             [
              0.6666666666666666,
              "#ed7953"
             ],
             [
              0.7777777777777778,
              "#fb9f3a"
             ],
             [
              0.8888888888888888,
              "#fdca26"
             ],
             [
              1,
              "#f0f921"
             ]
            ],
            "type": "heatmap"
           }
          ],
          "heatmapgl": [
           {
            "colorbar": {
             "outlinewidth": 0,
             "ticks": ""
            },
            "colorscale": [
             [
              0,
              "#0d0887"
             ],
             [
              0.1111111111111111,
              "#46039f"
             ],
             [
              0.2222222222222222,
              "#7201a8"
             ],
             [
              0.3333333333333333,
              "#9c179e"
             ],
             [
              0.4444444444444444,
              "#bd3786"
             ],
             [
              0.5555555555555556,
              "#d8576b"
             ],
             [
              0.6666666666666666,
              "#ed7953"
             ],
             [
              0.7777777777777778,
              "#fb9f3a"
             ],
             [
              0.8888888888888888,
              "#fdca26"
             ],
             [
              1,
              "#f0f921"
             ]
            ],
            "type": "heatmapgl"
           }
          ],
          "histogram": [
           {
            "marker": {
             "pattern": {
              "fillmode": "overlay",
              "size": 10,
              "solidity": 0.2
             }
            },
            "type": "histogram"
           }
          ],
          "histogram2d": [
           {
            "colorbar": {
             "outlinewidth": 0,
             "ticks": ""
            },
            "colorscale": [
             [
              0,
              "#0d0887"
             ],
             [
              0.1111111111111111,
              "#46039f"
             ],
             [
              0.2222222222222222,
              "#7201a8"
             ],
             [
              0.3333333333333333,
              "#9c179e"
             ],
             [
              0.4444444444444444,
              "#bd3786"
             ],
             [
              0.5555555555555556,
              "#d8576b"
             ],
             [
              0.6666666666666666,
              "#ed7953"
             ],
             [
              0.7777777777777778,
              "#fb9f3a"
             ],
             [
              0.8888888888888888,
              "#fdca26"
             ],
             [
              1,
              "#f0f921"
             ]
            ],
            "type": "histogram2d"
           }
          ],
          "histogram2dcontour": [
           {
            "colorbar": {
             "outlinewidth": 0,
             "ticks": ""
            },
            "colorscale": [
             [
              0,
              "#0d0887"
             ],
             [
              0.1111111111111111,
              "#46039f"
             ],
             [
              0.2222222222222222,
              "#7201a8"
             ],
             [
              0.3333333333333333,
              "#9c179e"
             ],
             [
              0.4444444444444444,
              "#bd3786"
             ],
             [
              0.5555555555555556,
              "#d8576b"
             ],
             [
              0.6666666666666666,
              "#ed7953"
             ],
             [
              0.7777777777777778,
              "#fb9f3a"
             ],
             [
              0.8888888888888888,
              "#fdca26"
             ],
             [
              1,
              "#f0f921"
             ]
            ],
            "type": "histogram2dcontour"
           }
          ],
          "mesh3d": [
           {
            "colorbar": {
             "outlinewidth": 0,
             "ticks": ""
            },
            "type": "mesh3d"
           }
          ],
          "parcoords": [
           {
            "line": {
             "colorbar": {
              "outlinewidth": 0,
              "ticks": ""
             }
            },
            "type": "parcoords"
           }
          ],
          "pie": [
           {
            "automargin": true,
            "type": "pie"
           }
          ],
          "scatter": [
           {
            "fillpattern": {
             "fillmode": "overlay",
             "size": 10,
             "solidity": 0.2
            },
            "type": "scatter"
           }
          ],
          "scatter3d": [
           {
            "line": {
             "colorbar": {
              "outlinewidth": 0,
              "ticks": ""
             }
            },
            "marker": {
             "colorbar": {
              "outlinewidth": 0,
              "ticks": ""
             }
            },
            "type": "scatter3d"
           }
          ],
          "scattercarpet": [
           {
            "marker": {
             "colorbar": {
              "outlinewidth": 0,
              "ticks": ""
             }
            },
            "type": "scattercarpet"
           }
          ],
          "scattergeo": [
           {
            "marker": {
             "colorbar": {
              "outlinewidth": 0,
              "ticks": ""
             }
            },
            "type": "scattergeo"
           }
          ],
          "scattergl": [
           {
            "marker": {
             "colorbar": {
              "outlinewidth": 0,
              "ticks": ""
             }
            },
            "type": "scattergl"
           }
          ],
          "scattermapbox": [
           {
            "marker": {
             "colorbar": {
              "outlinewidth": 0,
              "ticks": ""
             }
            },
            "type": "scattermapbox"
           }
          ],
          "scatterpolar": [
           {
            "marker": {
             "colorbar": {
              "outlinewidth": 0,
              "ticks": ""
             }
            },
            "type": "scatterpolar"
           }
          ],
          "scatterpolargl": [
           {
            "marker": {
             "colorbar": {
              "outlinewidth": 0,
              "ticks": ""
             }
            },
            "type": "scatterpolargl"
           }
          ],
          "scatterternary": [
           {
            "marker": {
             "colorbar": {
              "outlinewidth": 0,
              "ticks": ""
             }
            },
            "type": "scatterternary"
           }
          ],
          "surface": [
           {
            "colorbar": {
             "outlinewidth": 0,
             "ticks": ""
            },
            "colorscale": [
             [
              0,
              "#0d0887"
             ],
             [
              0.1111111111111111,
              "#46039f"
             ],
             [
              0.2222222222222222,
              "#7201a8"
             ],
             [
              0.3333333333333333,
              "#9c179e"
             ],
             [
              0.4444444444444444,
              "#bd3786"
             ],
             [
              0.5555555555555556,
              "#d8576b"
             ],
             [
              0.6666666666666666,
              "#ed7953"
             ],
             [
              0.7777777777777778,
              "#fb9f3a"
             ],
             [
              0.8888888888888888,
              "#fdca26"
             ],
             [
              1,
              "#f0f921"
             ]
            ],
            "type": "surface"
           }
          ],
          "table": [
           {
            "cells": {
             "fill": {
              "color": "#EBF0F8"
             },
             "line": {
              "color": "white"
             }
            },
            "header": {
             "fill": {
              "color": "#C8D4E3"
             },
             "line": {
              "color": "white"
             }
            },
            "type": "table"
           }
          ]
         },
         "layout": {
          "annotationdefaults": {
           "arrowcolor": "#2a3f5f",
           "arrowhead": 0,
           "arrowwidth": 1
          },
          "autotypenumbers": "strict",
          "coloraxis": {
           "colorbar": {
            "outlinewidth": 0,
            "ticks": ""
           }
          },
          "colorscale": {
           "diverging": [
            [
             0,
             "#8e0152"
            ],
            [
             0.1,
             "#c51b7d"
            ],
            [
             0.2,
             "#de77ae"
            ],
            [
             0.3,
             "#f1b6da"
            ],
            [
             0.4,
             "#fde0ef"
            ],
            [
             0.5,
             "#f7f7f7"
            ],
            [
             0.6,
             "#e6f5d0"
            ],
            [
             0.7,
             "#b8e186"
            ],
            [
             0.8,
             "#7fbc41"
            ],
            [
             0.9,
             "#4d9221"
            ],
            [
             1,
             "#276419"
            ]
           ],
           "sequential": [
            [
             0,
             "#0d0887"
            ],
            [
             0.1111111111111111,
             "#46039f"
            ],
            [
             0.2222222222222222,
             "#7201a8"
            ],
            [
             0.3333333333333333,
             "#9c179e"
            ],
            [
             0.4444444444444444,
             "#bd3786"
            ],
            [
             0.5555555555555556,
             "#d8576b"
            ],
            [
             0.6666666666666666,
             "#ed7953"
            ],
            [
             0.7777777777777778,
             "#fb9f3a"
            ],
            [
             0.8888888888888888,
             "#fdca26"
            ],
            [
             1,
             "#f0f921"
            ]
           ],
           "sequentialminus": [
            [
             0,
             "#0d0887"
            ],
            [
             0.1111111111111111,
             "#46039f"
            ],
            [
             0.2222222222222222,
             "#7201a8"
            ],
            [
             0.3333333333333333,
             "#9c179e"
            ],
            [
             0.4444444444444444,
             "#bd3786"
            ],
            [
             0.5555555555555556,
             "#d8576b"
            ],
            [
             0.6666666666666666,
             "#ed7953"
            ],
            [
             0.7777777777777778,
             "#fb9f3a"
            ],
            [
             0.8888888888888888,
             "#fdca26"
            ],
            [
             1,
             "#f0f921"
            ]
           ]
          },
          "colorway": [
           "#636efa",
           "#EF553B",
           "#00cc96",
           "#ab63fa",
           "#FFA15A",
           "#19d3f3",
           "#FF6692",
           "#B6E880",
           "#FF97FF",
           "#FECB52"
          ],
          "font": {
           "color": "#2a3f5f"
          },
          "geo": {
           "bgcolor": "white",
           "lakecolor": "white",
           "landcolor": "#E5ECF6",
           "showlakes": true,
           "showland": true,
           "subunitcolor": "white"
          },
          "hoverlabel": {
           "align": "left"
          },
          "hovermode": "closest",
          "mapbox": {
           "style": "light"
          },
          "paper_bgcolor": "white",
          "plot_bgcolor": "#E5ECF6",
          "polar": {
           "angularaxis": {
            "gridcolor": "white",
            "linecolor": "white",
            "ticks": ""
           },
           "bgcolor": "#E5ECF6",
           "radialaxis": {
            "gridcolor": "white",
            "linecolor": "white",
            "ticks": ""
           }
          },
          "scene": {
           "xaxis": {
            "backgroundcolor": "#E5ECF6",
            "gridcolor": "white",
            "gridwidth": 2,
            "linecolor": "white",
            "showbackground": true,
            "ticks": "",
            "zerolinecolor": "white"
           },
           "yaxis": {
            "backgroundcolor": "#E5ECF6",
            "gridcolor": "white",
            "gridwidth": 2,
            "linecolor": "white",
            "showbackground": true,
            "ticks": "",
            "zerolinecolor": "white"
           },
           "zaxis": {
            "backgroundcolor": "#E5ECF6",
            "gridcolor": "white",
            "gridwidth": 2,
            "linecolor": "white",
            "showbackground": true,
            "ticks": "",
            "zerolinecolor": "white"
           }
          },
          "shapedefaults": {
           "line": {
            "color": "#2a3f5f"
           }
          },
          "ternary": {
           "aaxis": {
            "gridcolor": "white",
            "linecolor": "white",
            "ticks": ""
           },
           "baxis": {
            "gridcolor": "white",
            "linecolor": "white",
            "ticks": ""
           },
           "bgcolor": "#E5ECF6",
           "caxis": {
            "gridcolor": "white",
            "linecolor": "white",
            "ticks": ""
           }
          },
          "title": {
           "x": 0.05
          },
          "xaxis": {
           "automargin": true,
           "gridcolor": "white",
           "linecolor": "white",
           "ticks": "",
           "title": {
            "standoff": 15
           },
           "zerolinecolor": "white",
           "zerolinewidth": 2
          },
          "yaxis": {
           "automargin": true,
           "gridcolor": "white",
           "linecolor": "white",
           "ticks": "",
           "title": {
            "standoff": 15
           },
           "zerolinecolor": "white",
           "zerolinewidth": 2
          }
         }
        },
        "title": {
         "text": "Top 50 (Uncleaned) Word frequencies in the training dataset [discourse_text]"
        }
       }
      },
      "text/html": [
       "<div>                            <div id=\"eddd0911-2b99-4aeb-8239-66ef7c20f9b4\" class=\"plotly-graph-div\" style=\"height:525px; width:100%;\"></div>            <script type=\"text/javascript\">                require([\"plotly\"], function(Plotly) {                    window.PLOTLYENV=window.PLOTLYENV || {};                                    if (document.getElementById(\"eddd0911-2b99-4aeb-8239-66ef7c20f9b4\")) {                    Plotly.newPlot(                        \"eddd0911-2b99-4aeb-8239-66ef7c20f9b4\",                        [{\"marker\":{\"color\":[38013,36578,33395,26329,25958,22924,18083,17819,17686,17426,15973,14522,14011,12013,11507,10665,10462,10168,10092,9499,9424,8847,8331,8233,7887,7728,7345,7340,7335,7141,7140,6704,6417,6305,5599,5542,5534,5442,5385,5350,5312,5279,5276,5271,5179,5176,4926,4881,4754,4698,4662,4607,4473,4464,4440,4342,4307,4271,4200,4060,3857,3774,3716,3638,3613,3530,3390,3325,3310,3275,3239,3237,3235,3166,3161,3065,3024,2979,2957,2915,2899,2814,2754,2711,2710,2709,2685,2655,2653,2637,2546,2536,2531,2516,2473,2465,2419,2371],\"colorscale\":[[0.0,\"rgb(0,0,131)\"],[0.2,\"rgb(0,60,170)\"],[0.4,\"rgb(5,255,255)\"],[0.6,\"rgb(255,255,0)\"],[0.8,\"rgb(250,0,0)\"],[1.0,\"rgb(128,0,0)\"]]},\"text\":\"Word counts\",\"x\":[\"a\",\"and\",\"of\",\"that\",\"is\",\"in\",\"it\",\"be\",\"they\",\"for\",\"you\",\"have\",\"are\",\"not\",\"on\",\"can\",\"would\",\"students\",\"or\",\"their\",\"I\",\"people\",\"because\",\"with\",\"The\",\"will\",\"if\",\"we\",\"this\",\"do\",\"more\",\"but\",\"as\",\"should\",\"by\",\"what\",\"was\",\"could\",\"at\",\"school\",\"from\",\"your\",\"like\",\"get\",\"there\",\"all\",\"vote\",\"just\"],\"y\":[38013,36578,33395,26329,25958,22924,18083,17819,17686,17426,15973,14522,14011,12013,11507,10665,10462,10168,10092,9499,9424,8847,8331,8233,7887,7728,7345,7340,7335,7141,7140,6704,6417,6305,5599,5542,5534,5442,5385,5350,5312,5279,5276,5271,5179,5176,4926,4881],\"type\":\"bar\"}],                        {\"template\":{\"data\":{\"barpolar\":[{\"marker\":{\"line\":{\"color\":\"#E5ECF6\",\"width\":0.5},\"pattern\":{\"fillmode\":\"overlay\",\"size\":10,\"solidity\":0.2}},\"type\":\"barpolar\"}],\"bar\":[{\"error_x\":{\"color\":\"#2a3f5f\"},\"error_y\":{\"color\":\"#2a3f5f\"},\"marker\":{\"line\":{\"color\":\"#E5ECF6\",\"width\":0.5},\"pattern\":{\"fillmode\":\"overlay\",\"size\":10,\"solidity\":0.2}},\"type\":\"bar\"}],\"carpet\":[{\"aaxis\":{\"endlinecolor\":\"#2a3f5f\",\"gridcolor\":\"white\",\"linecolor\":\"white\",\"minorgridcolor\":\"white\",\"startlinecolor\":\"#2a3f5f\"},\"baxis\":{\"endlinecolor\":\"#2a3f5f\",\"gridcolor\":\"white\",\"linecolor\":\"white\",\"minorgridcolor\":\"white\",\"startlinecolor\":\"#2a3f5f\"},\"type\":\"carpet\"}],\"choropleth\":[{\"colorbar\":{\"outlinewidth\":0,\"ticks\":\"\"},\"type\":\"choropleth\"}],\"contourcarpet\":[{\"colorbar\":{\"outlinewidth\":0,\"ticks\":\"\"},\"type\":\"contourcarpet\"}],\"contour\":[{\"colorbar\":{\"outlinewidth\":0,\"ticks\":\"\"},\"colorscale\":[[0.0,\"#0d0887\"],[0.1111111111111111,\"#46039f\"],[0.2222222222222222,\"#7201a8\"],[0.3333333333333333,\"#9c179e\"],[0.4444444444444444,\"#bd3786\"],[0.5555555555555556,\"#d8576b\"],[0.6666666666666666,\"#ed7953\"],[0.7777777777777778,\"#fb9f3a\"],[0.8888888888888888,\"#fdca26\"],[1.0,\"#f0f921\"]],\"type\":\"contour\"}],\"heatmapgl\":[{\"colorbar\":{\"outlinewidth\":0,\"ticks\":\"\"},\"colorscale\":[[0.0,\"#0d0887\"],[0.1111111111111111,\"#46039f\"],[0.2222222222222222,\"#7201a8\"],[0.3333333333333333,\"#9c179e\"],[0.4444444444444444,\"#bd3786\"],[0.5555555555555556,\"#d8576b\"],[0.6666666666666666,\"#ed7953\"],[0.7777777777777778,\"#fb9f3a\"],[0.8888888888888888,\"#fdca26\"],[1.0,\"#f0f921\"]],\"type\":\"heatmapgl\"}],\"heatmap\":[{\"colorbar\":{\"outlinewidth\":0,\"ticks\":\"\"},\"colorscale\":[[0.0,\"#0d0887\"],[0.1111111111111111,\"#46039f\"],[0.2222222222222222,\"#7201a8\"],[0.3333333333333333,\"#9c179e\"],[0.4444444444444444,\"#bd3786\"],[0.5555555555555556,\"#d8576b\"],[0.6666666666666666,\"#ed7953\"],[0.7777777777777778,\"#fb9f3a\"],[0.8888888888888888,\"#fdca26\"],[1.0,\"#f0f921\"]],\"type\":\"heatmap\"}],\"histogram2dcontour\":[{\"colorbar\":{\"outlinewidth\":0,\"ticks\":\"\"},\"colorscale\":[[0.0,\"#0d0887\"],[0.1111111111111111,\"#46039f\"],[0.2222222222222222,\"#7201a8\"],[0.3333333333333333,\"#9c179e\"],[0.4444444444444444,\"#bd3786\"],[0.5555555555555556,\"#d8576b\"],[0.6666666666666666,\"#ed7953\"],[0.7777777777777778,\"#fb9f3a\"],[0.8888888888888888,\"#fdca26\"],[1.0,\"#f0f921\"]],\"type\":\"histogram2dcontour\"}],\"histogram2d\":[{\"colorbar\":{\"outlinewidth\":0,\"ticks\":\"\"},\"colorscale\":[[0.0,\"#0d0887\"],[0.1111111111111111,\"#46039f\"],[0.2222222222222222,\"#7201a8\"],[0.3333333333333333,\"#9c179e\"],[0.4444444444444444,\"#bd3786\"],[0.5555555555555556,\"#d8576b\"],[0.6666666666666666,\"#ed7953\"],[0.7777777777777778,\"#fb9f3a\"],[0.8888888888888888,\"#fdca26\"],[1.0,\"#f0f921\"]],\"type\":\"histogram2d\"}],\"histogram\":[{\"marker\":{\"pattern\":{\"fillmode\":\"overlay\",\"size\":10,\"solidity\":0.2}},\"type\":\"histogram\"}],\"mesh3d\":[{\"colorbar\":{\"outlinewidth\":0,\"ticks\":\"\"},\"type\":\"mesh3d\"}],\"parcoords\":[{\"line\":{\"colorbar\":{\"outlinewidth\":0,\"ticks\":\"\"}},\"type\":\"parcoords\"}],\"pie\":[{\"automargin\":true,\"type\":\"pie\"}],\"scatter3d\":[{\"line\":{\"colorbar\":{\"outlinewidth\":0,\"ticks\":\"\"}},\"marker\":{\"colorbar\":{\"outlinewidth\":0,\"ticks\":\"\"}},\"type\":\"scatter3d\"}],\"scattercarpet\":[{\"marker\":{\"colorbar\":{\"outlinewidth\":0,\"ticks\":\"\"}},\"type\":\"scattercarpet\"}],\"scattergeo\":[{\"marker\":{\"colorbar\":{\"outlinewidth\":0,\"ticks\":\"\"}},\"type\":\"scattergeo\"}],\"scattergl\":[{\"marker\":{\"colorbar\":{\"outlinewidth\":0,\"ticks\":\"\"}},\"type\":\"scattergl\"}],\"scattermapbox\":[{\"marker\":{\"colorbar\":{\"outlinewidth\":0,\"ticks\":\"\"}},\"type\":\"scattermapbox\"}],\"scatterpolargl\":[{\"marker\":{\"colorbar\":{\"outlinewidth\":0,\"ticks\":\"\"}},\"type\":\"scatterpolargl\"}],\"scatterpolar\":[{\"marker\":{\"colorbar\":{\"outlinewidth\":0,\"ticks\":\"\"}},\"type\":\"scatterpolar\"}],\"scatter\":[{\"fillpattern\":{\"fillmode\":\"overlay\",\"size\":10,\"solidity\":0.2},\"type\":\"scatter\"}],\"scatterternary\":[{\"marker\":{\"colorbar\":{\"outlinewidth\":0,\"ticks\":\"\"}},\"type\":\"scatterternary\"}],\"surface\":[{\"colorbar\":{\"outlinewidth\":0,\"ticks\":\"\"},\"colorscale\":[[0.0,\"#0d0887\"],[0.1111111111111111,\"#46039f\"],[0.2222222222222222,\"#7201a8\"],[0.3333333333333333,\"#9c179e\"],[0.4444444444444444,\"#bd3786\"],[0.5555555555555556,\"#d8576b\"],[0.6666666666666666,\"#ed7953\"],[0.7777777777777778,\"#fb9f3a\"],[0.8888888888888888,\"#fdca26\"],[1.0,\"#f0f921\"]],\"type\":\"surface\"}],\"table\":[{\"cells\":{\"fill\":{\"color\":\"#EBF0F8\"},\"line\":{\"color\":\"white\"}},\"header\":{\"fill\":{\"color\":\"#C8D4E3\"},\"line\":{\"color\":\"white\"}},\"type\":\"table\"}]},\"layout\":{\"annotationdefaults\":{\"arrowcolor\":\"#2a3f5f\",\"arrowhead\":0,\"arrowwidth\":1},\"autotypenumbers\":\"strict\",\"coloraxis\":{\"colorbar\":{\"outlinewidth\":0,\"ticks\":\"\"}},\"colorscale\":{\"diverging\":[[0,\"#8e0152\"],[0.1,\"#c51b7d\"],[0.2,\"#de77ae\"],[0.3,\"#f1b6da\"],[0.4,\"#fde0ef\"],[0.5,\"#f7f7f7\"],[0.6,\"#e6f5d0\"],[0.7,\"#b8e186\"],[0.8,\"#7fbc41\"],[0.9,\"#4d9221\"],[1,\"#276419\"]],\"sequential\":[[0.0,\"#0d0887\"],[0.1111111111111111,\"#46039f\"],[0.2222222222222222,\"#7201a8\"],[0.3333333333333333,\"#9c179e\"],[0.4444444444444444,\"#bd3786\"],[0.5555555555555556,\"#d8576b\"],[0.6666666666666666,\"#ed7953\"],[0.7777777777777778,\"#fb9f3a\"],[0.8888888888888888,\"#fdca26\"],[1.0,\"#f0f921\"]],\"sequentialminus\":[[0.0,\"#0d0887\"],[0.1111111111111111,\"#46039f\"],[0.2222222222222222,\"#7201a8\"],[0.3333333333333333,\"#9c179e\"],[0.4444444444444444,\"#bd3786\"],[0.5555555555555556,\"#d8576b\"],[0.6666666666666666,\"#ed7953\"],[0.7777777777777778,\"#fb9f3a\"],[0.8888888888888888,\"#fdca26\"],[1.0,\"#f0f921\"]]},\"colorway\":[\"#636efa\",\"#EF553B\",\"#00cc96\",\"#ab63fa\",\"#FFA15A\",\"#19d3f3\",\"#FF6692\",\"#B6E880\",\"#FF97FF\",\"#FECB52\"],\"font\":{\"color\":\"#2a3f5f\"},\"geo\":{\"bgcolor\":\"white\",\"lakecolor\":\"white\",\"landcolor\":\"#E5ECF6\",\"showlakes\":true,\"showland\":true,\"subunitcolor\":\"white\"},\"hoverlabel\":{\"align\":\"left\"},\"hovermode\":\"closest\",\"mapbox\":{\"style\":\"light\"},\"paper_bgcolor\":\"white\",\"plot_bgcolor\":\"#E5ECF6\",\"polar\":{\"angularaxis\":{\"gridcolor\":\"white\",\"linecolor\":\"white\",\"ticks\":\"\"},\"bgcolor\":\"#E5ECF6\",\"radialaxis\":{\"gridcolor\":\"white\",\"linecolor\":\"white\",\"ticks\":\"\"}},\"scene\":{\"xaxis\":{\"backgroundcolor\":\"#E5ECF6\",\"gridcolor\":\"white\",\"gridwidth\":2,\"linecolor\":\"white\",\"showbackground\":true,\"ticks\":\"\",\"zerolinecolor\":\"white\"},\"yaxis\":{\"backgroundcolor\":\"#E5ECF6\",\"gridcolor\":\"white\",\"gridwidth\":2,\"linecolor\":\"white\",\"showbackground\":true,\"ticks\":\"\",\"zerolinecolor\":\"white\"},\"zaxis\":{\"backgroundcolor\":\"#E5ECF6\",\"gridcolor\":\"white\",\"gridwidth\":2,\"linecolor\":\"white\",\"showbackground\":true,\"ticks\":\"\",\"zerolinecolor\":\"white\"}},\"shapedefaults\":{\"line\":{\"color\":\"#2a3f5f\"}},\"ternary\":{\"aaxis\":{\"gridcolor\":\"white\",\"linecolor\":\"white\",\"ticks\":\"\"},\"baxis\":{\"gridcolor\":\"white\",\"linecolor\":\"white\",\"ticks\":\"\"},\"bgcolor\":\"#E5ECF6\",\"caxis\":{\"gridcolor\":\"white\",\"linecolor\":\"white\",\"ticks\":\"\"}},\"title\":{\"x\":0.05},\"xaxis\":{\"automargin\":true,\"gridcolor\":\"white\",\"linecolor\":\"white\",\"ticks\":\"\",\"title\":{\"standoff\":15},\"zerolinecolor\":\"white\",\"zerolinewidth\":2},\"yaxis\":{\"automargin\":true,\"gridcolor\":\"white\",\"linecolor\":\"white\",\"ticks\":\"\",\"title\":{\"standoff\":15},\"zerolinecolor\":\"white\",\"zerolinewidth\":2}}},\"title\":{\"text\":\"Top 50 (Uncleaned) Word frequencies in the training dataset [discourse_text]\"}},                        {\"responsive\": true}                    ).then(function(){\n",
       "                            \n",
       "var gd = document.getElementById('eddd0911-2b99-4aeb-8239-66ef7c20f9b4');\n",
       "var x = new MutationObserver(function (mutations, observer) {{\n",
       "        var display = window.getComputedStyle(gd).display;\n",
       "        if (!display || display === 'none') {{\n",
       "            console.log([gd, 'removed!']);\n",
       "            Plotly.purge(gd);\n",
       "            observer.disconnect();\n",
       "        }}\n",
       "}});\n",
       "\n",
       "// Listen for the removal of the full notebook cells\n",
       "var notebookContainer = gd.closest('#notebook-container');\n",
       "if (notebookContainer) {{\n",
       "    x.observe(notebookContainer, {childList: true});\n",
       "}}\n",
       "\n",
       "// Listen for the clearing of the current output cell\n",
       "var outputEl = gd.closest('.output');\n",
       "if (outputEl) {{\n",
       "    x.observe(outputEl, {childList: true});\n",
       "}}\n",
       "\n",
       "                        })                };                });            </script>        </div>"
      ]
     },
     "metadata": {},
     "output_type": "display_data"
    }
   ],
   "source": [
    "# Plotly imports\n",
    "import plotly.offline as py\n",
    "py.init_notebook_mode(connected=True)\n",
    "import plotly.graph_objs as go\n",
    "import plotly.tools as tls\n",
    "\n",
    "all_words = train['discourse_text'].str.split(expand=True).unstack().value_counts()\n",
    "data      = [go.Bar(\n",
    "            x = all_words.index.values[2:50],\n",
    "            y = all_words.values[2:50],\n",
    "            marker= dict(colorscale='Jet', color = all_words.values[2:100]),text='Word counts')]\n",
    "\n",
    "layout = go.Layout(title='Top 50 (Uncleaned) Word frequencies in the training dataset [discourse_text]')\n",
    "fig    = go.Figure(data=data, layout=layout)\n",
    "\n",
    "py.iplot(fig, filename='basic-bar')"
   ]
  },
  {
   "cell_type": "markdown",
   "metadata": {},
   "source": [
    "# Natural Language Processing (NLP)\n",
    "\n",
    "In almost all Natural Language Processing tasks that you will come across (be it topic modelling, or word clustering or document-text classification, etc.), one will generally always have to undergo these few pre-processing steps to convert the input raw text into a form that is readable by your model and the machine. You certainly can't expect to feed a Random Forest model a paragraph of words and expect it to immediately predict the output. Behind the scenes, text pre-processing can be boiled down to these few simple steps:\n",
    "\n",
    "1. **Tokenization** - Segregation of the text into its individual constitutent words.\n",
    "2. **Stopwords** - Throw away any words that occur too frequently as its frequency of occurrence will not be useful in helping detecting relevant texts. (as an aside also consider throwing away words that occur very infrequently).\n",
    "3. **Stemming** - combine variants of words into a single parent word that still conveys the same meaning.\n",
    "4. **Vectorization** - Converting text into vector format. One of the simplest is the famous `bag-of-words` approach, where you create a matrix (for each document or text in the corpus). In the simplest form, this matrix stores word frequencies (word counts) and is oft referred to as vectorization of the raw text."
   ]
  },
  {
   "cell_type": "markdown",
   "metadata": {},
   "source": [
    "## 1. Tokenization\n",
    "\n",
    "#### Lexicon and Corporas\n",
    "\n",
    "* **corpus** -> A corpus can be defined as a collection of text documents. It can be thought as just a bunch of text files in a directory, often alongside many other directories of text files\n",
    "* **corpora** -> body of text, ex: medical journals, presidential speeches, english language\n",
    "* **lexicon** -> words and their means\n",
    "* **Token** -> Each \"entity\" that is a part of whatever was split up based on rules. For examples, each word is a token when a sentence is \"tokenized\" into words. Each sentence can also be a token, if you tokenized the sentences out of a paragraph.\n",
    "\n",
    "\n",
    "The concept of `tokenization` is the act of taking a sequence of characters (think of Python strings) in a given document and dicing it up into its individual constituent pieces, which are the eponymous \"tokens\" of this method. One could loosely think of them as singular words in a sentence. One could naively implement the \"split( )\" method on a string which separates it into a python list based on the identifier in the argument. It is actually not that trivial to\n",
    "\n",
    "Here we split the first sentence of the text in the training data just on a space as follows:"
   ]
  },
  {
   "cell_type": "code",
   "execution_count": 10,
   "metadata": {
    "execution": {
     "iopub.execute_input": "2022-07-21T10:32:56.647620Z",
     "iopub.status.busy": "2022-07-21T10:32:56.647222Z",
     "iopub.status.idle": "2022-07-21T10:32:56.656298Z",
     "shell.execute_reply": "2022-07-21T10:32:56.655098Z",
     "shell.execute_reply.started": "2022-07-21T10:32:56.647588Z"
    }
   },
   "outputs": [
    {
     "name": "stdout",
     "output_type": "stream",
     "text": [
      "Hi, i'm Isaac, i'm going to be writing about how this face on Mars is a natural landform or if there is life on Mars that made it. The story is about how NASA took a picture of Mars and a face was seen on the planet. NASA doesn't know if the landform was created by life on Mars, or if it is just a natural landform. On my perspective, I think that the face is a natural landform because I dont think that there is any life on Mars. In these next few paragraphs, I'll be talking about how I think that is is a natural landform\n",
      "\n",
      "I think that the face is a natural landform because there is no life on Mars that we have descovered yet. If life was on Mars, we would know by now. The reason why I think it is a natural landform because, nobody live on Mars in order to create the figure. It says in paragraph 9, \"It's not easy to target Cydonia,\" in which he is saying that its not easy to know if it is a natural landform at this point. In all that they're saying, its probably a natural landform.\n",
      "\n",
      "People thought that the face was formed by alieans because they thought that there was life on Mars. though some say that life on Mars does exist, I think that there is no life on Mars.\n",
      "\n",
      "It says in paragraph 7, on April 5, 1998, Mars Global Surveyor flew over Cydonia for the first time. Michael Malin took a picture of Mars with his Orbiter Camera, that the face was a natural landform. Everyone who thought it was made by alieans even though it wasn't, was not satisfied. I think they were not satisfied because they have thought since 1976 that it was really formed by alieans.\n",
      "\n",
      "Though people were not satified about how the landform was a natural landform, in all, we new that alieans did not form the face. I would like to know how the landform was formed. we know now that life on Mars doesn't exist.             \n",
      "==========================================================================================\n",
      "['Hi,', \"i'm\", 'Isaac,', \"i'm\", 'going', 'to', 'be', 'writing', 'about', 'how', 'this', 'face', 'on', 'Mars', 'is', 'a', 'natural', 'landform', 'or', 'if', 'there', 'is', 'life', 'on', 'Mars', 'that', 'made', 'it.', 'The', 'story', 'is', 'about', 'how', 'NASA', 'took', 'a', 'picture', 'of', 'Mars', 'and', 'a', 'face', 'was', 'seen', 'on', 'the', 'planet.', 'NASA', \"doesn't\", 'know', 'if', 'the', 'landform', 'was', 'created', 'by', 'life', 'on', 'Mars,', 'or', 'if', 'it', 'is', 'just', 'a', 'natural', 'landform.', 'On', 'my', 'perspective,', 'I', 'think', 'that', 'the', 'face', 'is', 'a', 'natural', 'landform', 'because', 'I', 'dont', 'think', 'that', 'there', 'is', 'any', 'life', 'on', 'Mars.', 'In', 'these', 'next', 'few', 'paragraphs,', \"I'll\", 'be', 'talking', 'about', 'how', 'I', 'think', 'that', 'is', 'is', 'a', 'natural', 'landform\\n\\nI', 'think', 'that', 'the', 'face', 'is', 'a', 'natural', 'landform', 'because', 'there', 'is', 'no', 'life', 'on', 'Mars', 'that', 'we', 'have', 'descovered', 'yet.', 'If', 'life', 'was', 'on', 'Mars,', 'we', 'would', 'know', 'by', 'now.', 'The', 'reason', 'why', 'I', 'think', 'it', 'is', 'a', 'natural', 'landform', 'because,', 'nobody', 'live', 'on', 'Mars', 'in', 'order', 'to', 'create', 'the', 'figure.', 'It', 'says', 'in', 'paragraph', '9,', '\"It\\'s', 'not', 'easy', 'to', 'target', 'Cydonia,\"', 'in', 'which', 'he', 'is', 'saying', 'that', 'its', 'not', 'easy', 'to', 'know', 'if', 'it', 'is', 'a', 'natural', 'landform', 'at', 'this', 'point.', 'In', 'all', 'that', \"they're\", 'saying,', 'its', 'probably', 'a', 'natural', 'landform.\\n\\nPeople', 'thought', 'that', 'the', 'face', 'was', 'formed', 'by', 'alieans', 'because', 'they', 'thought', 'that', 'there', 'was', 'life', 'on', 'Mars.', 'though', 'some', 'say', 'that', 'life', 'on', 'Mars', 'does', 'exist,', 'I', 'think', 'that', 'there', 'is', 'no', 'life', 'on', 'Mars.\\n\\nIt', 'says', 'in', 'paragraph', '7,', 'on', 'April', '5,', '1998,', 'Mars', 'Global', 'Surveyor', 'flew', 'over', 'Cydonia', 'for', 'the', 'first', 'time.', 'Michael', 'Malin', 'took', 'a', 'picture', 'of', 'Mars', 'with', 'his', 'Orbiter', 'Camera,', 'that', 'the', 'face', 'was', 'a', 'natural', 'landform.', 'Everyone', 'who', 'thought', 'it', 'was', 'made', 'by', 'alieans', 'even', 'though', 'it', \"wasn't,\", 'was', 'not', 'satisfied.', 'I', 'think', 'they', 'were', 'not', 'satisfied', 'because', 'they', 'have', 'thought', 'since', '1976', 'that', 'it', 'was', 'really', 'formed', 'by', 'alieans.\\n\\nThough', 'people', 'were', 'not', 'satified', 'about', 'how', 'the', 'landform', 'was', 'a', 'natural', 'landform,', 'in', 'all,', 'we', 'new', 'that', 'alieans', 'did', 'not', 'form', 'the', 'face.', 'I', 'would', 'like', 'to', 'know', 'how', 'the', 'landform', 'was', 'formed.', 'we', 'know', 'now', 'that', 'life', 'on', 'Mars', \"doesn't\", 'exist.', '', '', '', '', '', '', '', '', '', '', '', '', '']\n"
     ]
    }
   ],
   "source": [
    "# Storing the first text element as a string\n",
    "first_text = get_essay(train['essay_id'][0], train=True)\n",
    "print(first_text)\n",
    "print(\"=\"*90)\n",
    "print(first_text.split(\" \"))"
   ]
  },
  {
   "cell_type": "markdown",
   "metadata": {},
   "source": [
    "However as you can see from this first attempt at tokenization, the segregation of the sentence into its individual elements (or terms) is not entirely accurate. As an example, look at the second element of the list which contains the term **\"Isaac,\"**. The punctuation mark (comma) has also been included and is being treated along with the word **\"Isaac\"** as a term in itself. Ideally we would like the comma and the word to be in two different and separate elements of the list. \n",
    "\n",
    "Trying to do this with pure python list operations will be quite complex so this is where the NLTK library comes into play. There is a convenient method \"word_tokenize( )\" (TreebankWord tokenizer) which strips out singular words as well as punctuations into separate elements automatically as follows:"
   ]
  },
  {
   "cell_type": "code",
   "execution_count": 11,
   "metadata": {
    "execution": {
     "iopub.execute_input": "2022-07-21T10:36:49.776838Z",
     "iopub.status.busy": "2022-07-21T10:36:49.776380Z",
     "iopub.status.idle": "2022-07-21T10:36:49.805993Z",
     "shell.execute_reply": "2022-07-21T10:36:49.804694Z",
     "shell.execute_reply.started": "2022-07-21T10:36:49.776799Z"
    }
   },
   "outputs": [
    {
     "name": "stdout",
     "output_type": "stream",
     "text": [
      "-------------- Sentence Tokenize --------------\n",
      "[\"Hi, i'm Isaac, i'm going to be writing about how this face on Mars is a natural landform or if there is life on Mars that made it.\", 'The story is about how NASA took a picture of Mars and a face was seen on the planet.', \"NASA doesn't know if the landform was created by life on Mars, or if it is just a natural landform.\", 'On my perspective, I think that the face is a natural landform because I dont think that there is any life on Mars.', \"In these next few paragraphs, I'll be talking about how I think that is is a natural landform\\n\\nI think that the face is a natural landform because there is no life on Mars that we have descovered yet.\", 'If life was on Mars, we would know by now.', 'The reason why I think it is a natural landform because, nobody live on Mars in order to create the figure.', 'It says in paragraph 9, \"It\\'s not easy to target Cydonia,\" in which he is saying that its not easy to know if it is a natural landform at this point.', \"In all that they're saying, its probably a natural landform.\", 'People thought that the face was formed by alieans because they thought that there was life on Mars.', 'though some say that life on Mars does exist, I think that there is no life on Mars.', 'It says in paragraph 7, on April 5, 1998, Mars Global Surveyor flew over Cydonia for the first time.', 'Michael Malin took a picture of Mars with his Orbiter Camera, that the face was a natural landform.', \"Everyone who thought it was made by alieans even though it wasn't, was not satisfied.\", 'I think they were not satisfied because they have thought since 1976 that it was really formed by alieans.', 'Though people were not satified about how the landform was a natural landform, in all, we new that alieans did not form the face.', 'I would like to know how the landform was formed.', \"we know now that life on Mars doesn't exist.\"]\n",
      "-------------- Word Tokenize --------------\n",
      "['Hi', ',', 'i', \"'m\", 'Isaac', ',', 'i', \"'m\", 'going', 'to', 'be', 'writing', 'about', 'how', 'this', 'face', 'on', 'Mars', 'is', 'a', 'natural', 'landform', 'or', 'if', 'there', 'is', 'life', 'on', 'Mars', 'that', 'made', 'it', '.', 'The', 'story', 'is', 'about', 'how', 'NASA', 'took', 'a', 'picture', 'of', 'Mars', 'and', 'a', 'face', 'was', 'seen', 'on', 'the', 'planet', '.', 'NASA', 'does', \"n't\", 'know', 'if', 'the', 'landform', 'was', 'created', 'by', 'life', 'on', 'Mars', ',', 'or', 'if', 'it', 'is', 'just', 'a', 'natural', 'landform', '.', 'On', 'my', 'perspective', ',', 'I', 'think', 'that', 'the', 'face', 'is', 'a', 'natural', 'landform', 'because', 'I', 'dont', 'think', 'that', 'there', 'is', 'any', 'life', 'on', 'Mars', '.', 'In', 'these', 'next', 'few', 'paragraphs', ',', 'I', \"'ll\", 'be', 'talking', 'about', 'how', 'I', 'think', 'that', 'is', 'is', 'a', 'natural', 'landform', 'I', 'think', 'that', 'the', 'face', 'is', 'a', 'natural', 'landform', 'because', 'there', 'is', 'no', 'life', 'on', 'Mars', 'that', 'we', 'have', 'descovered', 'yet', '.', 'If', 'life', 'was', 'on', 'Mars', ',', 'we', 'would', 'know', 'by', 'now', '.', 'The', 'reason', 'why', 'I', 'think', 'it', 'is', 'a', 'natural', 'landform', 'because', ',', 'nobody', 'live', 'on', 'Mars', 'in', 'order', 'to', 'create', 'the', 'figure', '.', 'It', 'says', 'in', 'paragraph', '9', ',', '``', 'It', \"'s\", 'not', 'easy', 'to', 'target', 'Cydonia', ',', \"''\", 'in', 'which', 'he', 'is', 'saying', 'that', 'its', 'not', 'easy', 'to', 'know', 'if', 'it', 'is', 'a', 'natural', 'landform', 'at', 'this', 'point', '.', 'In', 'all', 'that', 'they', \"'re\", 'saying', ',', 'its', 'probably', 'a', 'natural', 'landform', '.', 'People', 'thought', 'that', 'the', 'face', 'was', 'formed', 'by', 'alieans', 'because', 'they', 'thought', 'that', 'there', 'was', 'life', 'on', 'Mars', '.', 'though', 'some', 'say', 'that', 'life', 'on', 'Mars', 'does', 'exist', ',', 'I', 'think', 'that', 'there', 'is', 'no', 'life', 'on', 'Mars', '.', 'It', 'says', 'in', 'paragraph', '7', ',', 'on', 'April', '5', ',', '1998', ',', 'Mars', 'Global', 'Surveyor', 'flew', 'over', 'Cydonia', 'for', 'the', 'first', 'time', '.', 'Michael', 'Malin', 'took', 'a', 'picture', 'of', 'Mars', 'with', 'his', 'Orbiter', 'Camera', ',', 'that', 'the', 'face', 'was', 'a', 'natural', 'landform', '.', 'Everyone', 'who', 'thought', 'it', 'was', 'made', 'by', 'alieans', 'even', 'though', 'it', 'was', \"n't\", ',', 'was', 'not', 'satisfied', '.', 'I', 'think', 'they', 'were', 'not', 'satisfied', 'because', 'they', 'have', 'thought', 'since', '1976', 'that', 'it', 'was', 'really', 'formed', 'by', 'alieans', '.', 'Though', 'people', 'were', 'not', 'satified', 'about', 'how', 'the', 'landform', 'was', 'a', 'natural', 'landform', ',', 'in', 'all', ',', 'we', 'new', 'that', 'alieans', 'did', 'not', 'form', 'the', 'face', '.', 'I', 'would', 'like', 'to', 'know', 'how', 'the', 'landform', 'was', 'formed', '.', 'we', 'know', 'now', 'that', 'life', 'on', 'Mars', 'does', \"n't\", 'exist', '.']\n"
     ]
    }
   ],
   "source": [
    "from nltk.tokenize import sent_tokenize, word_tokenize\n",
    "\n",
    "print(\"-------------- Sentence Tokenize --------------\")\n",
    "print(sent_tokenize(first_text))\n",
    "\n",
    "print(\"-------------- Word Tokenize --------------\")\n",
    "print(word_tokenize(first_text))"
   ]
  },
  {
   "cell_type": "markdown",
   "metadata": {},
   "source": [
    "## 2. Stopwords Removal\n",
    "\n",
    "**`Stopwords`** are the words in any language which does not add much meaning to a sentence. They can safely be ignored without sacrificing the meaning of the sentence. For some search engines, these are some of the most common, short function words, such as the, is, at, which, and on. In this case, stop words can cause problems when searching for phrases that include them, particularly in names such as “The Who” or “Take That”.\n",
    "\n",
    "\n",
    "As alluded to above stopwords are generally words that appear so commonly and at such a high frequency in the corpus that they don't actually contribute much to the learning or predictive process as a learning model would fail to distinguish it from other texts. **`Stopwords`** include terms such as \"to\" or \"the\" and therefore, it would be to our benefit to remove them during the pre-processing phase. Conveniently, NLTK comes with a predefined list of 179 english stopwords. (unhide the second cell below to see this list)"
   ]
  },
  {
   "cell_type": "code",
   "execution_count": 12,
   "metadata": {
    "execution": {
     "iopub.execute_input": "2022-07-21T10:40:58.508898Z",
     "iopub.status.busy": "2022-07-21T10:40:58.508492Z",
     "iopub.status.idle": "2022-07-21T10:40:58.515832Z",
     "shell.execute_reply": "2022-07-21T10:40:58.514572Z",
     "shell.execute_reply.started": "2022-07-21T10:40:58.508864Z"
    }
   },
   "outputs": [
    {
     "name": "stdout",
     "output_type": "stream",
     "text": [
      "179\n",
      "['i', 'me', 'my', 'myself', 'we', 'our', 'ours', 'ourselves', 'you', \"you're\", \"you've\", \"you'll\", \"you'd\", 'your', 'yours', 'yourself', 'yourselves', 'he', 'him', 'his', 'himself', 'she', \"she's\", 'her', 'hers', 'herself', 'it', \"it's\", 'its', 'itself', 'they', 'them', 'their', 'theirs', 'themselves', 'what', 'which', 'who', 'whom', 'this', 'that', \"that'll\", 'these', 'those', 'am', 'is', 'are', 'was', 'were', 'be', 'been', 'being', 'have', 'has', 'had', 'having', 'do', 'does', 'did', 'doing', 'a', 'an', 'the', 'and', 'but', 'if', 'or', 'because', 'as', 'until', 'while', 'of', 'at', 'by', 'for', 'with', 'about', 'against', 'between', 'into', 'through', 'during', 'before', 'after', 'above', 'below', 'to', 'from', 'up', 'down', 'in', 'out', 'on', 'off', 'over', 'under', 'again', 'further', 'then', 'once', 'here', 'there', 'when', 'where', 'why', 'how', 'all', 'any', 'both', 'each', 'few', 'more', 'most', 'other', 'some', 'such', 'no', 'nor', 'not', 'only', 'own', 'same', 'so', 'than', 'too', 'very', 's', 't', 'can', 'will', 'just', 'don', \"don't\", 'should', \"should've\", 'now', 'd', 'll', 'm', 'o', 're', 've', 'y', 'ain', 'aren', \"aren't\", 'couldn', \"couldn't\", 'didn', \"didn't\", 'doesn', \"doesn't\", 'hadn', \"hadn't\", 'hasn', \"hasn't\", 'haven', \"haven't\", 'isn', \"isn't\", 'ma', 'mightn', \"mightn't\", 'mustn', \"mustn't\", 'needn', \"needn't\", 'shan', \"shan't\", 'shouldn', \"shouldn't\", 'wasn', \"wasn't\", 'weren', \"weren't\", 'won', \"won't\", 'wouldn', \"wouldn't\"]\n"
     ]
    }
   ],
   "source": [
    "stopwords = nltk.corpus.stopwords.words('english')\n",
    "print(len(stopwords))\n",
    "print(stopwords)"
   ]
  },
  {
   "cell_type": "markdown",
   "metadata": {},
   "source": [
    "\n",
    "**To filter out stop words from our tokenized list of words, we can simply use a list comprehension as follows:**"
   ]
  },
  {
   "cell_type": "markdown",
   "metadata": {},
   "source": [
    "## 3.1. Stemming\n",
    "\n",
    "The idea of **stemming** is a sort of normalizing method. Many variations of words carry the same meaning, other than when tense is involved. The reason why we stem is to shorten the lookup, and normalize sentences.\n",
    "\n",
    "e.g. I was taking a ride in the car. I was riding in the car."
   ]
  },
  {
   "cell_type": "code",
   "execution_count": 13,
   "metadata": {},
   "outputs": [
    {
     "name": "stdout",
     "output_type": "stream",
     "text": [
      "python\n",
      "python\n",
      "python\n",
      "python\n",
      "pythonli\n"
     ]
    }
   ],
   "source": [
    "ps = PorterStemmer()\n",
    "\n",
    "ex_words = [\"python\",\"pythoner\",\"pythoning\",\"pythoned\",\"pythonly\"]\n",
    "for s in ex_words:\n",
    "    print(ps.stem(s))"
   ]
  },
  {
   "cell_type": "markdown",
   "metadata": {},
   "source": [
    "## 3.2. Lemmatization\n",
    "A very similar operation to **`stemming`** is called **`lemmatizing`**. The major difference between these is, as you saw earlier, stemming can often create non-existent words, whereas lemmas are actual words.\n",
    "\n",
    "So, your root stem, meaning the word you end up with, is not something you can just look up in a dictionary, but you can look up a lemma."
   ]
  },
  {
   "cell_type": "code",
   "execution_count": 14,
   "metadata": {},
   "outputs": [
    {
     "name": "stdout",
     "output_type": "stream",
     "text": [
      "cat\n",
      "cactus\n",
      "dog\n",
      "corpus\n",
      "goose\n",
      "rock\n",
      "python\n"
     ]
    }
   ],
   "source": [
    "from nltk.stem import WordNetLemmatizer\n",
    "lemmatizer = WordNetLemmatizer()\n",
    "\n",
    "print(lemmatizer.lemmatize(\"cats\"))\n",
    "print(lemmatizer.lemmatize(\"cacti\"))\n",
    "print(lemmatizer.lemmatize(\"dogs\"))\n",
    "print(lemmatizer.lemmatize(\"corpora\"))\n",
    "print(lemmatizer.lemmatize(\"geese\"))\n",
    "print(lemmatizer.lemmatize(\"rocks\"))\n",
    "print(lemmatizer.lemmatize(\"python\"))"
   ]
  },
  {
   "cell_type": "code",
   "execution_count": 15,
   "metadata": {},
   "outputs": [
    {
     "name": "stdout",
     "output_type": "stream",
     "text": [
      "General_lemma: worst\n",
      "Adjective_change_lemma -> worst to : bad\n",
      "Adjective_change_lemma -> better to: good\n",
      "lemma_v: run\n",
      "lemma_verb_initiated: run\n"
     ]
    }
   ],
   "source": [
    "## different approach based on noun,adjective,verb\n",
    "\n",
    "# general\n",
    "print('General_lemma:',lemmatizer.lemmatize(\"worst\"))\n",
    "\n",
    "# Adjective\n",
    "print('Adjective_change_lemma -> worst to :',lemmatizer.lemmatize(\"worst\", pos='a'))\n",
    "print('Adjective_change_lemma -> better to:',lemmatizer.lemmatize(\"better\",pos='a'))\n",
    "\n",
    "# verb\n",
    "print('lemma_v:',lemmatizer.lemmatize(\"run\"))\n",
    "print('lemma_verb_initiated:',lemmatizer.lemmatize(\"run\",pos='v'))"
   ]
  },
  {
   "cell_type": "markdown",
   "metadata": {},
   "source": [
    "## 3.3 WordNet\n",
    "\n",
    "**WordNet** is a lexical database for the English language, which was created by Princeton, and is part of the NLTK corpus.\n",
    "\n",
    "You can use WordNet alongside the NLTK module to find the meanings of words, synonyms, antonyms, and more"
   ]
  },
  {
   "cell_type": "code",
   "execution_count": 16,
   "metadata": {},
   "outputs": [
    {
     "name": "stdout",
     "output_type": "stream",
     "text": [
      "All kind of syns: [Synset('plan.n.01'), Synset('program.n.02'), Synset('broadcast.n.02'), Synset('platform.n.02'), Synset('program.n.05'), Synset('course_of_study.n.01'), Synset('program.n.07'), Synset('program.n.08'), Synset('program.v.01'), Synset('program.v.02')]\n"
     ]
    }
   ],
   "source": [
    "from nltk.corpus import wordnet\n",
    "\n",
    "syns = wordnet.synsets(\"program\")\n",
    "print('All kind of syns:',syns)"
   ]
  },
  {
   "cell_type": "code",
   "execution_count": 17,
   "metadata": {},
   "outputs": [
    {
     "name": "stdout",
     "output_type": "stream",
     "text": [
      "Only first index of synset: Synset('plan.n.01')\n",
      "------------------------------------\n",
      "Apply lemmas in first index of synset: [Lemma('plan.n.01.plan'), Lemma('plan.n.01.program'), Lemma('plan.n.01.programme')]\n",
      "------------------------------------\n",
      "Name of synset: plan\n",
      "------------------------------------\n",
      "Definition of synsets: a series of steps to be carried out or goals to be accomplished\n",
      "------------------------------------\n",
      "Example of synsets: ['they drew up a six-step plan', 'they discussed plans for a new bond issue']\n",
      "------------------------------------\n"
     ]
    }
   ],
   "source": [
    "## synset\n",
    "print('Only first index of synset:',syns[0])\n",
    "print('------------------------------------')\n",
    "\n",
    "## lemmas\n",
    "print('Apply lemmas in first index of synset:',syns[0].lemmas())\n",
    "print('------------------------------------')\n",
    "\n",
    "## just the one word\n",
    "print('Name of synset:',syns[0].lemmas()[0].name())\n",
    "print('------------------------------------')\n",
    "\n",
    "## definition of particular word (eg.. plan)\n",
    "print('Definition of synsets:',syns[0].definition())\n",
    "print('------------------------------------')\n",
    "\n",
    "##examples\n",
    "print('Example of synsets:',syns[0].examples())\n",
    "print('------------------------------------')"
   ]
  },
  {
   "cell_type": "code",
   "execution_count": 18,
   "metadata": {},
   "outputs": [
    {
     "name": "stdout",
     "output_type": "stream",
     "text": [
      "Synonyms: {'nameless', 'obscure', 'terra_incognita', 'unknown', 'stranger', 'alien', 'unidentified', 'unsung', 'unknown_quantity', 'strange', 'unknown_region', 'unnamed'}\n",
      "----------------------------------------------------\n",
      "antonyms: {'acquaintance', 'known'}\n",
      "----------------------------------------------------\n"
     ]
    }
   ],
   "source": [
    "## Synonyms and Antonyms\n",
    "\n",
    "synonyms = []\n",
    "antonyms = []\n",
    "\n",
    "for syn in wordnet.synsets(\"unknown\"):\n",
    "    for l in syn.lemmas(): #lemmas means synonyms of word\n",
    "#         print(\"l:\",l) # meaning of words in nltk library is lot\n",
    "#         print('---------------------------------------------')\n",
    "        synonyms.append(l.name())\n",
    "        \n",
    "        if l.antonyms(): #opposite of meaning\n",
    "            antonyms.append(l.antonyms()[0].name())\n",
    "\n",
    "print('Synonyms:',set(synonyms))\n",
    "print('----------------------------------------------------')\n",
    "print('antonyms:',set(antonyms))\n",
    "print('----------------------------------------------------')"
   ]
  },
  {
   "cell_type": "markdown",
   "metadata": {},
   "source": [
    "## 3.4. Similarity identification\n",
    "\n",
    "* \"Wu and Palmer method: WordNet::Similarity::wup - Perl module for computing semantic relatedness of word senses using the edge counting method of the of Wu & Palmer (1994)\"\n",
    "\n",
    "* Resnik (1999) revises the Wu & Palmer (1994) method of measuring semantic relatedness. Resnik uses use an edge distance method by taking into account the most specific node subsuming the two concepts. Here we have implemented the original Wu & Palmer method, which uses node-counting.\n",
    "\n",
    "* If you want more details refer this one:\\\n",
    "https://metacpan.org/release/TPEDERSE/WordNet-Similarity-1.03/view/lib/WordNet/Similarity/wup.pm"
   ]
  },
  {
   "cell_type": "code",
   "execution_count": 19,
   "metadata": {},
   "outputs": [
    {
     "name": "stdout",
     "output_type": "stream",
     "text": [
      "Similarity_Score of first_second words:   0.75\n",
      "Similarity_Score of Third_fourth words:   0.125\n",
      "Similarity_Score of fifth_sixth words:    0.4444444444444444\n",
      "Similarity_Score of seventh_eigth words:  0.9090909090909091\n"
     ]
    }
   ],
   "source": [
    "word1 = wordnet.synset(\"computer.n.01\") # n means Noun\n",
    "word2 = wordnet.synset(\"system.n.01\")\n",
    "\n",
    "word3 = wordnet.synset(\"cycle.n.01\") # n means Noun\n",
    "word4 = wordnet.synset(\"bike.n.01\")\n",
    "\n",
    "word5 = wordnet.synset(\"ship.n.01\") # n means Noun\n",
    "word6 = wordnet.synset(\"person.n.01\")\n",
    "\n",
    "word7 = wordnet.synset(\"ship.n.01\") # n means Noun\n",
    "word8 = wordnet.synset(\"boat.n.01\")\n",
    "\n",
    "print('Similarity_Score of first_second words:  ', word1.wup_similarity(word2))\n",
    "print('Similarity_Score of Third_fourth words:  ', word3.wup_similarity(word4))\n",
    "print('Similarity_Score of fifth_sixth words:   ', word5.wup_similarity(word6))\n",
    "print('Similarity_Score of seventh_eigth words: ', word7.wup_similarity(word8))"
   ]
  },
  {
   "cell_type": "markdown",
   "metadata": {},
   "source": [
    "## 4. Vectorization"
   ]
  },
  {
   "cell_type": "markdown",
   "metadata": {},
   "source": [
    "### 4.1 Bag of Words\n",
    "\n",
    "* **Frequency BOW**"
   ]
  },
  {
   "cell_type": "code",
   "execution_count": 23,
   "metadata": {},
   "outputs": [
    {
     "name": "stdout",
     "output_type": "stream",
     "text": [
      "Snetences: \n",
      " [\"Hi, i'm Isaac, i'm going to be writing about how this face on Mars is a natural landform or if there is life on Mars that made it.\", 'The story is about how NASA took a picture of Mars and a face was seen on the planet.', \"NASA doesn't know if the landform was created by life on Mars, or if it is just a natural landform.\", 'On my perspective, I think that the face is a natural landform because I dont think that there is any life on Mars.', \"In these next few paragraphs, I'll be talking about how I think that is is a natural landform\\n\\nI think that the face is a natural landform because there is no life on Mars that we have descovered yet.\", 'If life was on Mars, we would know by now.', 'The reason why I think it is a natural landform because, nobody live on Mars in order to create the figure.', 'It says in paragraph 9, \"It\\'s not easy to target Cydonia,\" in which he is saying that its not easy to know if it is a natural landform at this point.', \"In all that they're saying, its probably a natural landform.\", 'People thought that the face was formed by alieans because they thought that there was life on Mars.', 'though some say that life on Mars does exist, I think that there is no life on Mars.', 'It says in paragraph 7, on April 5, 1998, Mars Global Surveyor flew over Cydonia for the first time.', 'Michael Malin took a picture of Mars with his Orbiter Camera, that the face was a natural landform.', \"Everyone who thought it was made by alieans even though it wasn't, was not satisfied.\", 'I think they were not satisfied because they have thought since 1976 that it was really formed by alieans.', 'Though people were not satified about how the landform was a natural landform, in all, we new that alieans did not form the face.', 'I would like to know how the landform was formed.', \"we know now that life on Mars doesn't exist.\"]\n",
      "\n",
      "Corpus: \n",
      " ['hi isaac going writing face mar natural landform life mar made', 'story nasa took picture mar face seen planet', 'nasa know landform created life mar natural landform', 'perspective think face natural landform dont think life mar', 'next paragraph talking think natural landform think face natural landform life mar descovered yet', 'life mar would know', 'reason think natural landform nobody live mar order create figure', 'say paragraph easy target cydonia saying easy know natural landform point', 'saying probably natural landform', 'people thought face formed alieans thought life mar', 'though say life mar exist think life mar', 'say paragraph april mar global surveyor flew cydonia first time', 'michael malin took picture mar orbiter camera face natural landform', 'everyone thought made alieans even though satisfied', 'think satisfied thought since really formed alieans', 'though people satified landform natural landform new alieans form face', 'would like know landform formed', 'know life mar exist']\n"
     ]
    }
   ],
   "source": [
    "from nltk.corpus import stopwords\n",
    "ps        = PorterStemmer()\n",
    "wordnet   = WordNetLemmatizer()\n",
    "sentences = nltk.sent_tokenize(first_text) ## Sentence tokenization\n",
    "# stopwords = stopwords.words('english')\n",
    "print(\"Snetences: \\n\", sentences)\n",
    "\n",
    "corpus = []\n",
    "for i in range(len(sentences)):\n",
    "    review = re.sub('[^a-zA-Z]', ' ', sentences[i])\n",
    "    review = review.lower()\n",
    "    review = review.split()\n",
    "    review = [wordnet.lemmatize(word) for word in review if not word in set(stopwords.words('english'))]\n",
    "    review = ' '.join(review)\n",
    "    corpus.append(review)\n",
    "\n",
    "print(\"\\nCorpus: \\n\", corpus)"
   ]
  },
  {
   "cell_type": "code",
   "execution_count": 38,
   "metadata": {},
   "outputs": [
    {
     "name": "stdout",
     "output_type": "stream",
     "text": [
      "(18,)\n",
      "(18, 65)\n",
      "Our vocabulary:  {'hi': 20, 'isaac': 21, 'going': 19, 'writing': 63, 'face': 12, 'mar': 29, 'natural': 32, 'landform': 23, 'life': 24, 'made': 27, 'story': 53, 'nasa': 31, 'took': 61, 'picture': 41, 'seen': 51, 'planet': 42, 'know': 22, 'created': 4, 'perspective': 40, 'think': 57, 'dont': 7, 'next': 34, 'paragraph': 38, 'talking': 55, 'descovered': 6, 'yet': 64, 'would': 62, 'reason': 46, 'nobody': 35, 'live': 26, 'order': 37, 'create': 3, 'figure': 13, 'say': 49, 'easy': 8, 'target': 56, 'cydonia': 5, 'saying': 50, 'point': 43, 'probably': 44, 'people': 39, 'thought': 59, 'formed': 17, 'alieans': 0, 'though': 58, 'exist': 11, 'april': 1, 'global': 18, 'surveyor': 54, 'flew': 15, 'first': 14, 'time': 60, 'michael': 30, 'malin': 28, 'orbiter': 36, 'camera': 2, 'everyone': 10, 'even': 9, 'satisfied': 48, 'since': 52, 'really': 45, 'satified': 47, 'new': 33, 'form': 16, 'like': 25}\n",
      "BoW representation for X[0]: \n",
      " [0 0 0 0 0 0 0 0 0 0 0 0 1 0 0 0 0 0 0 1 1 1 0 1 1 0 0 1 0 2 0 0 1 0 0 0 0\n",
      " 0 0 0 0 0 0 0 0 0 0 0 0 0 0 0 0 0 0 0 0 0 0 0 0 0 0 1 0]\n",
      "BoW representation for X[1]: \n",
      " [0 0 0 0 0 0 0 0 0 0 0 0 1 0 0 0 0 0 0 0 0 0 0 0 0 0 0 0 0 1 0 1 0 0 0 0 0\n",
      " 0 0 0 0 1 1 0 0 0 0 0 0 0 0 1 0 1 0 0 0 0 0 0 0 1 0 0 0]\n"
     ]
    }
   ],
   "source": [
    "## Creating the Bag of Words model\n",
    "\n",
    "print(np.array(corpus).shape)\n",
    "\n",
    "cv = CountVectorizer(max_features = 1500)\n",
    "X  = cv.fit_transform(corpus).toarray()\n",
    "print(X.shape)\n",
    "\n",
    "# Look at the vocabulary mapping\n",
    "print(\"Our vocabulary: \", cv.vocabulary_)\n",
    "\n",
    "# see the BOW rep for first 2 documents\n",
    "print(\"BoW representation for X[0]: \\n\", X[0])\n",
    "print(\"BoW representation for X[1]: \\n\", X[1])"
   ]
  },
  {
   "cell_type": "markdown",
   "metadata": {},
   "source": [
    "* **Binary BOW**"
   ]
  },
  {
   "cell_type": "code",
   "execution_count": 40,
   "metadata": {},
   "outputs": [
    {
     "name": "stdout",
     "output_type": "stream",
     "text": [
      "(18, 65)\n",
      "BoW representation for temp[0]: \n",
      " [0 0 0 0 0 0 0 0 0 0 0 0 1 0 0 0 0 0 0 1 1 1 0 1 1 0 0 1 0 1 0 0 1 0 0 0 0\n",
      " 0 0 0 0 0 0 0 0 0 0 0 0 0 0 0 0 0 0 0 0 0 0 0 0 0 0 1 0]\n",
      "BoW representation for temp[1]: \n",
      " [0 0 0 0 0 0 0 0 0 0 0 0 1 0 0 0 0 0 0 0 0 0 0 0 0 0 0 0 0 1 0 1 0 0 0 0 0\n",
      " 0 0 0 0 1 1 0 0 0 0 0 0 0 0 1 0 1 0 0 0 0 0 0 0 1 0 0 0]\n"
     ]
    }
   ],
   "source": [
    "## In the above code, we represented the text considering the frequency of words into account. However, sometimes, we don't care about frequency much,\n",
    "## but only want to know whether a word appeared in a text or not. That is, each document is represented as a vector of 0s and 1s.\n",
    "## We will use the option binary=True in CountVectorizer for this purpose.\n",
    "\n",
    "## BoW with binary vectors\n",
    "count_vect = CountVectorizer(binary=True)\n",
    "temp       = count_vect.fit_transform(corpus).toarray()\n",
    "print(temp.shape)\n",
    "\n",
    "# see the BOW rep for first 2 documents\n",
    "print(\"BoW representation for temp[0]: \\n\", temp[0])\n",
    "print(\"BoW representation for temp[1]: \\n\", temp[1])"
   ]
  },
  {
   "cell_type": "markdown",
   "metadata": {},
   "source": [
    "### 4.2 TF-IDF\n",
    "\n",
    "**In all the other approaches we saw so far, all the words in the text are treated equally important. There is no notion of some words in the document being more important than others. TF-IDF addresses this issue. It aims to quantify the importance of a given word relative to other words in the document and in the corpus. It was commonly used representation scheme for information retrieval systems, for extracting relevant documents from a corpus for given text query.**\n",
    "\n",
    "TF-IDF for a word in a document is calculated by multiplying two different metrics:\n",
    "\n",
    "* The **term frequency (TF)** of a word in a document. There are several ways of calculating this frequency, with the simplest being a raw count of instances a word appears in a document. Then, there are other ways to adjust the frequency. For example, by dividing the raw count of instances of a word by either length of the document, or by the raw frequency of the most frequent word in the document.\n",
    "\n",
    "* The **inverse document frequency(IDF)** of the word across a set of documents. This suggests how common or rare a word is in the entire document set. The closer it is to 0, the more common is the word. This metric can be calculated by taking the total number of documents, dividing it by the number of documents that contain a word, and calculating the logarithm.\n"
   ]
  },
  {
   "cell_type": "code",
   "execution_count": 25,
   "metadata": {},
   "outputs": [
    {
     "name": "stdout",
     "output_type": "stream",
     "text": [
      "(18, 65)\n"
     ]
    }
   ],
   "source": [
    "## Creating the TF-IDF model\n",
    "\n",
    "tfidf = TfidfVectorizer()\n",
    "Y     = tfidf.fit_transform(corpus).toarray()\n",
    "print(Y.shape)"
   ]
  },
  {
   "cell_type": "markdown",
   "metadata": {},
   "source": [
    "### 4.3 One-Hot-Encoding (OHE)\n",
    "* Useful for **Word Tokenization**"
   ]
  },
  {
   "cell_type": "code",
   "execution_count": 28,
   "metadata": {},
   "outputs": [
    {
     "name": "stdout",
     "output_type": "stream",
     "text": [
      "The data:  ['hi isaac going writing face mar natural landform life mar made', 'story nasa took picture mar face seen planet', 'nasa know landform created life mar natural landform', 'perspective think face natural landform dont think life mar', 'next paragraph talking think natural landform think face natural landform life mar descovered yet', 'life mar would know', 'reason think natural landform nobody live mar order create figure', 'say paragraph easy target cydonia saying easy know natural landform point', 'saying probably natural landform', 'people thought face formed alieans thought life mar', 'though say life mar exist think life mar', 'say paragraph april mar global surveyor flew cydonia first time', 'michael malin took picture mar orbiter camera face natural landform', 'everyone thought made alieans even though satisfied', 'think satisfied thought since really formed alieans', 'though people satified landform natural landform new alieans form face', 'would like know landform formed', 'know life mar exist']\n",
      "-------------------------------------------------\n",
      "Label Encoded: [ 1 13  5  8  6  3  9 11 12  7 16 10  4  0 14 15 17  2]\n",
      "----------------------------------------------------\n"
     ]
    }
   ],
   "source": [
    "from sklearn.preprocessing import LabelEncoder, OneHotEncoder\n",
    "\n",
    "print(\"The data: \", corpus)\n",
    "print('-------------------------------------------------')\n",
    "\n",
    "#Label Encoding\n",
    "label_encoder = LabelEncoder()\n",
    "integer_encoded = label_encoder.fit_transform(corpus)\n",
    "print(\"Label Encoded:\",integer_encoded)\n",
    "print('----------------------------------------------------')"
   ]
  },
  {
   "cell_type": "code",
   "execution_count": 34,
   "metadata": {},
   "outputs": [
    {
     "name": "stdout",
     "output_type": "stream",
     "text": [
      "['everyone thought made alieans even though satisfied'\n",
      " 'hi isaac going writing face mar natural landform life mar made'\n",
      " 'know life mar exist' 'life mar would know'\n",
      " 'michael malin took picture mar orbiter camera face natural landform'\n",
      " 'nasa know landform created life mar natural landform'\n",
      " 'next paragraph talking think natural landform think face natural landform life mar descovered yet'\n",
      " 'people thought face formed alieans thought life mar'\n",
      " 'perspective think face natural landform dont think life mar'\n",
      " 'reason think natural landform nobody live mar order create figure'\n",
      " 'say paragraph april mar global surveyor flew cydonia first time'\n",
      " 'say paragraph easy target cydonia saying easy know natural landform point'\n",
      " 'saying probably natural landform'\n",
      " 'story nasa took picture mar face seen planet'\n",
      " 'think satisfied thought since really formed alieans'\n",
      " 'though people satified landform natural landform new alieans form face'\n",
      " 'though say life mar exist think life mar'\n",
      " 'would like know landform formed']\n"
     ]
    }
   ],
   "source": [
    "# #One-Hot Encoding\n",
    "# data           = [corpus.split()]\n",
    "# onehot_encoder = OneHotEncoder()\n",
    "# onehot_encoded = onehot_encoder.fit_transform(data).toarray()\n",
    "# print(\"Onehot Encoded Matrix:\\n\", onehot_encoded)\n",
    "\n",
    "print(label_encoder.classes_)"
   ]
  },
  {
   "cell_type": "markdown",
   "metadata": {},
   "source": [
    "### 4.4 Bag of n-grams (BoN)\n",
    "*  One hot encoding, BoW and TF-IDF treat words as independent units. There is no notion of phrases or word ordering. **Bag of Ngrams (BoN)** approach tries to remedy this. It does so by breaking text into chunks of n countigous words/tokens. This can help us capture some context, which earlier approaches could not do\n",
    "* An N-gram is an N-token sequence of words: a 2-gram (more commonly called a bigram) is a two-word sequence of words like “really good”, “not good”, or “your homework”, and a 3-gram (more commonly called a trigram) is a three-word sequence of words like “not at all”, or “turn off light”."
   ]
  },
  {
   "cell_type": "code",
   "execution_count": 41,
   "metadata": {},
   "outputs": [
    {
     "name": "stdout",
     "output_type": "stream",
     "text": [
      "Our vocabulary:  {'hi': 68, 'isaac': 71, 'going': 65, 'writing': 263, 'face': 42, 'mar': 118, 'natural': 144, 'landform': 82, 'life': 99, 'made': 112, 'hi isaac': 69, 'isaac going': 72, 'going writing': 66, 'writing face': 264, 'face mar': 45, 'mar natural': 128, 'natural landform': 145, 'landform life': 88, 'life mar': 100, 'mar made': 127, 'hi isaac going': 70, 'isaac going writing': 73, 'going writing face': 67, 'writing face mar': 265, 'face mar natural': 46, 'mar natural landform': 129, 'natural landform life': 147, 'landform life mar': 89, 'life mar made': 103, 'story': 219, 'nasa': 139, 'took': 256, 'picture': 182, 'seen': 214, 'planet': 186, 'story nasa': 220, 'nasa took': 142, 'took picture': 257, 'picture mar': 183, 'mar face': 123, 'face seen': 49, 'seen planet': 215, 'story nasa took': 221, 'nasa took picture': 143, 'took picture mar': 258, 'picture mar face': 184, 'mar face seen': 124, 'face seen planet': 50, 'know': 74, 'created': 15, 'nasa know': 140, 'know landform': 75, 'landform created': 83, 'created life': 16, 'nasa know landform': 141, 'know landform created': 76, 'landform created life': 84, 'created life mar': 17, 'life mar natural': 104, 'perspective': 179, 'think': 231, 'dont': 25, 'perspective think': 180, 'think face': 232, 'face natural': 47, 'landform dont': 85, 'dont think': 26, 'think life': 234, 'perspective think face': 181, 'think face natural': 233, 'face natural landform': 48, 'natural landform dont': 146, 'landform dont think': 86, 'dont think life': 27, 'think life mar': 235, 'next': 155, 'paragraph': 167, 'talking': 225, 'descovered': 23, 'yet': 266, 'next paragraph': 156, 'paragraph talking': 172, 'talking think': 226, 'think natural': 236, 'landform think': 97, 'mar descovered': 119, 'descovered yet': 24, 'next paragraph talking': 157, 'paragraph talking think': 173, 'talking think natural': 227, 'think natural landform': 237, 'natural landform think': 151, 'landform think face': 98, 'life mar descovered': 101, 'mar descovered yet': 120, 'would': 259, 'mar would': 134, 'would know': 260, 'life mar would': 105, 'mar would know': 135, 'reason': 194, 'nobody': 158, 'live': 109, 'order': 164, 'create': 13, 'figure': 51, 'reason think': 195, 'landform nobody': 94, 'nobody live': 159, 'live mar': 110, 'mar order': 132, 'order create': 165, 'create figure': 14, 'reason think natural': 196, 'natural landform nobody': 149, 'landform nobody live': 95, 'nobody live mar': 160, 'live mar order': 111, 'mar order create': 133, 'order create figure': 166, 'say': 203, 'easy': 28, 'target': 228, 'cydonia': 18, 'saying': 209, 'point': 187, 'say paragraph': 206, 'paragraph easy': 170, 'easy target': 31, 'target cydonia': 229, 'cydonia saying': 21, 'saying easy': 210, 'easy know': 29, 'know natural': 80, 'landform point': 96, 'say paragraph easy': 208, 'paragraph easy target': 171, 'easy target cydonia': 32, 'target cydonia saying': 230, 'cydonia saying easy': 22, 'saying easy know': 211, 'easy know natural': 30, 'know natural landform': 81, 'natural landform point': 150, 'probably': 188, 'saying probably': 212, 'probably natural': 189, 'saying probably natural': 213, 'probably natural landform': 190, 'people': 174, 'thought': 246, 'formed': 59, 'alieans': 0, 'people thought': 177, 'thought face': 247, 'face formed': 43, 'formed alieans': 60, 'alieans thought': 5, 'thought life': 249, 'people thought face': 178, 'thought face formed': 248, 'face formed alieans': 44, 'formed alieans thought': 61, 'alieans thought life': 6, 'thought life mar': 250, 'though': 240, 'exist': 39, 'though say': 244, 'say life': 204, 'mar exist': 121, 'exist think': 40, 'though say life': 245, 'say life mar': 205, 'life mar exist': 102, 'mar exist think': 122, 'exist think life': 41, 'april': 7, 'global': 62, 'surveyor': 222, 'flew': 54, 'first': 52, 'time': 255, 'paragraph april': 168, 'april mar': 8, 'mar global': 125, 'global surveyor': 63, 'surveyor flew': 223, 'flew cydonia': 55, 'cydonia first': 19, 'first time': 53, 'say paragraph april': 207, 'paragraph april mar': 169, 'april mar global': 9, 'mar global surveyor': 126, 'global surveyor flew': 64, 'surveyor flew cydonia': 224, 'flew cydonia first': 56, 'cydonia first time': 20, 'michael': 136, 'malin': 115, 'orbiter': 161, 'camera': 10, 'michael malin': 137, 'malin took': 116, 'mar orbiter': 130, 'orbiter camera': 162, 'camera face': 11, 'michael malin took': 138, 'malin took picture': 117, 'picture mar orbiter': 185, 'mar orbiter camera': 131, 'orbiter camera face': 163, 'camera face natural': 12, 'everyone': 36, 'even': 33, 'satisfied': 200, 'everyone thought': 37, 'thought made': 251, 'made alieans': 113, 'alieans even': 1, 'even though': 34, 'though satisfied': 243, 'everyone thought made': 38, 'thought made alieans': 252, 'made alieans even': 114, 'alieans even though': 2, 'even though satisfied': 35, 'since': 216, 'really': 191, 'think satisfied': 238, 'satisfied thought': 201, 'thought since': 253, 'since really': 217, 'really formed': 192, 'think satisfied thought': 239, 'satisfied thought since': 202, 'thought since really': 254, 'since really formed': 218, 'really formed alieans': 193, 'satified': 197, 'new': 152, 'form': 57, 'though people': 241, 'people satified': 175, 'satified landform': 198, 'landform natural': 90, 'landform new': 92, 'new alieans': 153, 'alieans form': 3, 'form face': 58, 'though people satified': 242, 'people satified landform': 176, 'satified landform natural': 199, 'landform natural landform': 91, 'natural landform new': 148, 'landform new alieans': 93, 'new alieans form': 154, 'alieans form face': 4, 'like': 106, 'would like': 261, 'like know': 107, 'landform formed': 87, 'would like know': 262, 'like know landform': 108, 'know landform formed': 77, 'know life': 78, 'know life mar': 79}\n"
     ]
    }
   ],
   "source": [
    "# from sklearn.feature_extraction.text import CountVectorizer\n",
    "\n",
    "## Ngram vectorization example with count vectorizer and uni, bi, trigrams\n",
    "count_vect = CountVectorizer(ngram_range=(1,3))\n",
    "\n",
    "## Build a BOW representation for the corpus\n",
    "bow_rep = count_vect.fit_transform(corpus)\n",
    "\n",
    "## Look at the vocabulary mapping\n",
    "print(\"Our vocabulary: \", count_vect.vocabulary_)"
   ]
  },
  {
   "cell_type": "code",
   "execution_count": 44,
   "metadata": {},
   "outputs": [
    {
     "name": "stdout",
     "output_type": "stream",
     "text": [
      "BoW representation for bow_rep[0]: \n",
      " (1, 267)\n",
      "BoW representation for bow_rep[1]: \n",
      " (1, 267)\n"
     ]
    }
   ],
   "source": [
    "## see the BOW rep for first 2 documents\n",
    "print(\"BoW representation for bow_rep[0]: \\n\", bow_rep[0].toarray().shape)\n",
    "print(\"BoW representation for bow_rep[1]: \\n\", bow_rep[1].toarray().shape)"
   ]
  },
  {
   "cell_type": "markdown",
   "metadata": {},
   "source": [
    "### 4.5 Word Embedding\n",
    "* [Reference](https://towardsdatascience.com/word2vec-explained-49c52b4ccb71)\n",
    "* [Paper](https://arxiv.org/pdf/1301.3781.pdf)\n",
    "\n",
    "* In **BOW** and **TF-IDF**, semantic information is **NOT** stored. **TF-IDF** gives importance to unimportant words.\n",
    "* There is definitely chance of over-fitting. \n",
    "\n",
    "* **Word embeddings** are an approach to representing text in NLP. Word embeddings is a technique where individual words are transformed into a numerical representation of the word (a vector). Where each word is mapped to one vector, this vector is then learned in a way which resembles a neural network. The vectors try to capture various characteristics of that word with regard to the overall text. These characteristics can include the semantic relationship of the word, definitions, context, etc. With these numerical representations, you can do many things like identify similarity or dissimilarity between words.\n",
    "* The simplest embedding would be a **one-hot** encoding of text data where each vector would be mapped to a category."
   ]
  },
  {
   "cell_type": "markdown",
   "metadata": {},
   "source": [
    "##### 4.5 Word2Vec Architecture\n",
    "* In `Word2Vec` each word in basically represented as a vector of 32 or more dimension insted of a single number.\n",
    "* Here the semantic information and relation between different words is also preserved.\n",
    "* There are two main architectures which yield the success of word2vec.\n",
    "1. Continuous Skip-Gram Model\n",
    "2. CBOW (Continuous Bag of Words) architectures.\n"
   ]
  },
  {
   "cell_type": "markdown",
   "metadata": {},
   "source": [
    "##### 4.5.1 Continuous Skip-Gram Model\n",
    "The **skip-gram model** is a simple neural network with one hidden layer trained in order to predict the probability of a given word being present when an input word is present. Intuitively, you can imagine the skip-gram model being the opposite of the CBOW model. In this architecture, it takes the current word as an input and tries to accurately predict the words before and after this current word. This model essentially tries to learn and predict the context words around the specified input word. Based on experiments assessing the accuracy of this model it was found that the prediction quality improves given a large range of word vectors, however it also increases the computational complexity.\n",
    "\n",
    "##### 4.5.2 CBOW (Continuous Bag of Words)\n",
    "This architecture is very similar to a feed forward neural network. This model architecture essentially tries to predict a target word from a list of context words. The intuition behind this model is quite simple: given a phrase `\"Have a great day\"` , we will choose our target word to be `“a”` and our context words to be `[“have”, “great”, “day”]`. What this model will do is take the distributed representations of the context words to try and predict the target word."
   ]
  },
  {
   "cell_type": "code",
   "execution_count": 71,
   "metadata": {},
   "outputs": [
    {
     "name": "stdout",
     "output_type": "stream",
     "text": [
      "Length of a corpus:  18\n",
      "Length of sentences:  18\n",
      "Length of sentences (after remoring stopwords):  18\n",
      "Wall time: 0 ns\n"
     ]
    }
   ],
   "source": [
    "import time\n",
    "from gensim.models import Word2Vec as w2v\n",
    "from sklearn.decomposition import PCA\n",
    "\n",
    "print(\"Length of a corpus: \", len(corpus))\n",
    "sentences = [nltk.word_tokenize(sentence) for sentence in corpus]\n",
    "print(\"Length of sentences: \", len(sentences))\n",
    "\n",
    "for i in range(len(sentences)):\n",
    "    sentences[i] = [word for word in sentences[i] if word not in stopwords.words('english')]\n",
    "\n",
    "print(\"Length of sentences (after remoring stopwords): \", len(sentences))\n",
    "\n",
    "%time\n",
    "## Training the Word2Vec model\n",
    "w2v_cbow     = w2v(sentences, min_count=1, sg=0) # using CBOW Architecture for trainnig\n",
    "w2v_skipGram = w2v(sentences, min_count=1, sg=1) # using skipGram Architecture for training "
   ]
  },
  {
   "cell_type": "code",
   "execution_count": 72,
   "metadata": {},
   "outputs": [
    {
     "name": "stdout",
     "output_type": "stream",
     "text": [
      "Wall time: 0 ns\n",
      "{'mar': 0, 'landform': 1, 'natural': 2, 'life': 3, 'think': 4, 'face': 5, 'know': 6, 'thought': 7, 'alieans': 8, 'say': 9, 'paragraph': 10, 'formed': 11, 'though': 12, 'people': 13, 'easy': 14, 'would': 15, 'exist': 16, 'took': 17, 'picture': 18, 'cydonia': 19, 'nasa': 20, 'made': 21, 'satisfied': 22, 'saying': 23, 'dont': 24, 'next': 25, 'talking': 26, 'descovered': 27, 'like': 28, 'perspective': 29, 'created': 30, 'planet': 31, 'seen': 32, 'story': 33, 'writing': 34, 'going': 35, 'isaac': 36, 'yet': 37, 'figure': 38, 'reason': 39, 'nobody': 40, 'new': 41, 'satified': 42, 'really': 43, 'since': 44, 'even': 45, 'everyone': 46, 'camera': 47, 'orbiter': 48, 'malin': 49, 'michael': 50, 'time': 51, 'first': 52, 'flew': 53, 'surveyor': 54, 'global': 55, 'april': 56, 'probably': 57, 'point': 58, 'target': 59, 'form': 60, 'create': 61, 'order': 62, 'live': 63, 'hi': 64}\n",
      "\n",
      "----------------------------------------\n",
      "\n",
      "{'mar': 0, 'landform': 1, 'natural': 2, 'life': 3, 'think': 4, 'face': 5, 'know': 6, 'thought': 7, 'alieans': 8, 'say': 9, 'paragraph': 10, 'formed': 11, 'though': 12, 'people': 13, 'easy': 14, 'would': 15, 'exist': 16, 'took': 17, 'picture': 18, 'cydonia': 19, 'nasa': 20, 'made': 21, 'satisfied': 22, 'saying': 23, 'dont': 24, 'next': 25, 'talking': 26, 'descovered': 27, 'like': 28, 'perspective': 29, 'created': 30, 'planet': 31, 'seen': 32, 'story': 33, 'writing': 34, 'going': 35, 'isaac': 36, 'yet': 37, 'figure': 38, 'reason': 39, 'nobody': 40, 'new': 41, 'satified': 42, 'really': 43, 'since': 44, 'even': 45, 'everyone': 46, 'camera': 47, 'orbiter': 48, 'malin': 49, 'michael': 50, 'time': 51, 'first': 52, 'flew': 53, 'surveyor': 54, 'global': 55, 'april': 56, 'probably': 57, 'point': 58, 'target': 59, 'form': 60, 'create': 61, 'order': 62, 'live': 63, 'hi': 64}\n"
     ]
    }
   ],
   "source": [
    "%time\n",
    "## Summarize vocabulary\n",
    "# print(w2v_model.wv.vocab)\n",
    "# print(w2v_model.wv.index_to_key)\n",
    "print(w2v_cbow.wv.key_to_index)\n",
    "print('\\n----------------------------------------\\n')\n",
    "print(w2v_skipGram.wv.key_to_index)"
   ]
  },
  {
   "cell_type": "code",
   "execution_count": 107,
   "metadata": {},
   "outputs": [
    {
     "name": "stdout",
     "output_type": "stream",
     "text": [
      "mar\n"
     ]
    }
   ],
   "source": [
    "temp = w2v_skipGram.wv.index_to_key # index_to_key, key_to_index\n",
    "## list(temp.keys())[0]\n",
    "for x in w2v_skipGram.wv.key_to_index:\n",
    "    print(x)\n",
    "    break"
   ]
  },
  {
   "cell_type": "code",
   "execution_count": 73,
   "metadata": {},
   "outputs": [
    {
     "name": "stdout",
     "output_type": "stream",
     "text": [
      "(100,)\n",
      "\n",
      "----------------------------------------\n",
      "\n",
      "(100,)\n",
      "[('flew', 0.2131378948688507), ('hi', 0.19289349019527435), ('probably', 0.16645999252796173), ('landform', 0.16156086325645447), ('natural', 0.1579701453447342), ('seen', 0.15731893479824066), ('time', 0.15643210709095), ('really', 0.15124183893203735), ('writing', 0.14568288624286652), ('people', 0.1445947289466858)]\n",
      "\n",
      "----------------------------------------\n",
      "\n",
      "[('flew', 0.21278375387191772), ('hi', 0.19244523346424103), ('probably', 0.16671882569789886), ('landform', 0.15993407368659973), ('seen', 0.1568250209093094), ('time', 0.15552903711795807), ('natural', 0.1553756296634674), ('really', 0.1505592316389084), ('writing', 0.14545303583145142), ('form', 0.14384996891021729)]\n"
     ]
    }
   ],
   "source": [
    "## Access vector for one word\n",
    "vector1 = w2v_skipGram.wv['face']\n",
    "print(vector1.shape)\n",
    "print('\\n----------------------------------------\\n')\n",
    "vector2 = w2v_cbow.wv['face']\n",
    "print(vector2.shape)\n",
    "\n",
    "## Most similar words\n",
    "similar1 = w2v_skipGram.wv.most_similar('picture')\n",
    "print(similar1)\n",
    "print('\\n----------------------------------------\\n')\n",
    "similar2 = w2v_cbow.wv.most_similar('picture')\n",
    "print(similar2)\n",
    "\n",
    "\n",
    "# ## save model\n",
    "# w2v_cbow.save('w2v_cbow.bin')\n",
    "# w2v_skipGram.save('w2v_skipGram.bin')\n",
    "# ## load model\n",
    "# new_w2v_cbow = w2v.load('w2v_cbow.bin')\n",
    "# new_w2v_skipGram = w2v.load('w2v_skipGram.bin')\n"
   ]
  },
  {
   "cell_type": "markdown",
   "metadata": {},
   "source": [
    "### 4.6 Doc2Vec Architecture\n",
    "**Doc2Vec** is another widely used technique that creates an embedding of a document irrespective to its length. While **Word2Vec** computes a feature vector for every word in the corpus, and **Doc2Vec** computes a feature vector for every document in the corpus"
   ]
  },
  {
   "cell_type": "code",
   "execution_count": 74,
   "metadata": {},
   "outputs": [],
   "source": [
    "import warnings\n",
    "warnings.filterwarnings('ignore')\n",
    "from gensim.models.doc2vec import Doc2Vec, TaggedDocument"
   ]
  },
  {
   "cell_type": "code",
   "execution_count": 75,
   "metadata": {},
   "outputs": [
    {
     "data": {
      "text/plain": [
       "[TaggedDocument(words=['hi', 'isaac', 'going', 'writing', 'face', 'mar', 'natural', 'landform', 'life', 'mar', 'made'], tags=['0']),\n",
       " TaggedDocument(words=['story', 'nasa', 'took', 'picture', 'mar', 'face', 'seen', 'planet'], tags=['1']),\n",
       " TaggedDocument(words=['nasa', 'know', 'landform', 'created', 'life', 'mar', 'natural', 'landform'], tags=['2']),\n",
       " TaggedDocument(words=['perspective', 'think', 'face', 'natural', 'landform', 'dont', 'think', 'life', 'mar'], tags=['3']),\n",
       " TaggedDocument(words=['next', 'paragraph', 'talking', 'think', 'natural', 'landform', 'think', 'face', 'natural', 'landform', 'life', 'mar', 'descovered', 'yet'], tags=['4']),\n",
       " TaggedDocument(words=['life', 'mar', 'would', 'know'], tags=['5']),\n",
       " TaggedDocument(words=['reason', 'think', 'natural', 'landform', 'nobody', 'live', 'mar', 'order', 'create', 'figure'], tags=['6']),\n",
       " TaggedDocument(words=['say', 'paragraph', 'easy', 'target', 'cydonia', 'saying', 'easy', 'know', 'natural', 'landform', 'point'], tags=['7']),\n",
       " TaggedDocument(words=['saying', 'probably', 'natural', 'landform'], tags=['8']),\n",
       " TaggedDocument(words=['people', 'thought', 'face', 'formed', 'alieans', 'thought', 'life', 'mar'], tags=['9']),\n",
       " TaggedDocument(words=['though', 'say', 'life', 'mar', 'exist', 'think', 'life', 'mar'], tags=['10']),\n",
       " TaggedDocument(words=['say', 'paragraph', 'april', 'mar', 'global', 'surveyor', 'flew', 'cydonia', 'first', 'time'], tags=['11']),\n",
       " TaggedDocument(words=['michael', 'malin', 'took', 'picture', 'mar', 'orbiter', 'camera', 'face', 'natural', 'landform'], tags=['12']),\n",
       " TaggedDocument(words=['everyone', 'thought', 'made', 'alieans', 'even', 'though', 'satisfied'], tags=['13']),\n",
       " TaggedDocument(words=['think', 'satisfied', 'thought', 'since', 'really', 'formed', 'alieans'], tags=['14']),\n",
       " TaggedDocument(words=['though', 'people', 'satified', 'landform', 'natural', 'landform', 'new', 'alieans', 'form', 'face'], tags=['15']),\n",
       " TaggedDocument(words=['would', 'like', 'know', 'landform', 'formed'], tags=['16']),\n",
       " TaggedDocument(words=['know', 'life', 'mar', 'exist'], tags=['17'])]"
      ]
     },
     "execution_count": 75,
     "metadata": {},
     "output_type": "execute_result"
    }
   ],
   "source": [
    "tagged_data = [TaggedDocument(words=word_tokenize(word.lower()), tags=[str(i)]) for i, word in enumerate(corpus)]\n",
    "tagged_data"
   ]
  },
  {
   "cell_type": "code",
   "execution_count": 79,
   "metadata": {},
   "outputs": [
    {
     "name": "stdout",
     "output_type": "stream",
     "text": [
      "[ 0.0235203  -0.00788467  0.00272421 -0.01924115  0.01039901  0.01706493\n",
      "  0.0175892   0.00540942  0.01201392 -0.01147233  0.00013491 -0.01711306\n",
      " -0.00740713  0.02000939  0.01848306  0.01352311 -0.01668338 -0.0223017\n",
      "  0.00997541  0.01112321]\n"
     ]
    },
    {
     "data": {
      "text/plain": [
       "0.20537707"
      ]
     },
     "execution_count": 79,
     "metadata": {},
     "output_type": "execute_result"
    }
   ],
   "source": [
    "## Doc2Vec model\n",
    "model_d2v = Doc2Vec(tagged_data, vector_size=20, min_count=1, epochs=2, dm=0) # see what happens if we change dim=1\n",
    "print(model_d2v.infer_vector(['life','made','face'])) # feature vector of life, made & face\n",
    "\n",
    "## top 5 most simlar words.\n",
    "model_d2v.wv.most_similar(\"life\", topn=5)\n",
    "\n",
    "## Similarity\n",
    "model_d2v.wv.n_similarity([\"isaac\"],[\"people\"])"
   ]
  },
  {
   "cell_type": "markdown",
   "metadata": {},
   "source": [
    "### 4.7 FastText\n",
    "* As **Word2Vec** and **Doc2Vec* models rely on the `vocabulary` they had been trained on if the new text data that we want to vectorized contains words that were not previously present in the training vocabulary then these models fail to vectorized the unseen words accurately. `FastText` overcomes this problem.\n",
    "\n",
    "* `FastText` does this by vectorizing each word as a combination of character n-grams. The keyword to remember when working with FastText is character n-grams.\n",
    "\n",
    "*  Uses of **FastText**:\n",
    "    *  Very useful for finding semantic similarities\n",
    "    *  Large datasets can be trained in minutes\n",
    "    *  Can be used for the purpose of text classification.\n",
    "\n",
    "Thus the biggest advantage of using FastText over other models such as Word2Vec is that FastText can generate embeddings for sentences with words not present in the training vocabulary with the help of character n-grams whereas other models fail to do so.\n",
    "\n",
    "[Reference](https://pythonwife.com/fasttext-in-nlp/)"
   ]
  },
  {
   "cell_type": "code",
   "execution_count": 112,
   "metadata": {},
   "outputs": [
    {
     "data": {
      "text/plain": [
       "(36, 290)"
      ]
     },
     "execution_count": 112,
     "metadata": {},
     "output_type": "execute_result"
    }
   ],
   "source": [
    "from gensim.models import FastText\n",
    "from gensim.test.utils import common_texts\n",
    "\n",
    "# print(common_texts)\n",
    "\n",
    "# build the FastText model\n",
    "model1 = FastText(vector_size=5, window=3, min_count=1)\n",
    "model1.build_vocab(common_texts)\n",
    "model1.train(common_texts, total_examples=len(common_texts), epochs=10)"
   ]
  },
  {
   "cell_type": "code",
   "execution_count": 114,
   "metadata": {},
   "outputs": [
    {
     "name": "stdout",
     "output_type": "stream",
     "text": [
      "Predict one word: [-0.03166138  0.0232673   0.01241681  0.00036033  0.02841444]\n",
      "---------------------------\n",
      "[('user', 0.7968782186508179), ('system', 0.17462214827537537), ('response', 0.10433417558670044), ('survey', 0.009605271741747856), ('trees', -0.0764053612947464), ('time', -0.13300469517707825), ('minors', -0.1392730176448822), ('eps', -0.2409365326166153), ('graph', -0.29175299406051636)]\n"
     ]
    }
   ],
   "source": [
    "print('Predict one word:',model1.wv['human'])\n",
    "print('---------------------------')\n",
    "print(model1.wv.most_similar(positive=['computer','interface'], negative=['human']))"
   ]
  },
  {
   "cell_type": "markdown",
   "metadata": {},
   "source": [
    "### 4.8 [GloVe (Global Vectors)](https://www.kaggle.com/discussions/getting-started/164408)\n",
    "\n",
    "**GloVe**: GloVe is based on matrix factorization techniques on the word-context matrix. It first constructs a large matrix of (words x context) co-occurrence information, i.e. for each “word” (the rows), you count how frequently we see this word in some “context” (the columns) in a large corpus. The number of “contexts” is of course large, since it is essentially combinatorial in size. So then we factorize this matrix to yield a lower-dimensional (word x features) matrix, where each row now yields a vector representation for each word. In general, this is done by minimizing a “reconstruction loss”. This loss tries to find the lower-dimensional representations which can explain most of the variance in the high-dimensional data.\n",
    "\n",
    "**Why GloVe is better than Word2Vec?**\n",
    "\n",
    "**Rather than using a window to define local context, GloVe constructs an explicit word-context or word co-occurrence matrix using statistics across the whole text corpus. The result is a learning model that may result in generally better word embeddings.**\n",
    "\n",
    "* To read:\n",
    "\n",
    "https://edumunozsala.github.io/BlogEms/jupyter/nlp/classification/embeddings/python/2020/08/15/Intro_NLP_WordEmbeddings_Classification.html\n",
    "\n"
   ]
  },
  {
   "cell_type": "markdown",
   "metadata": {},
   "source": [
    "### 4.9 t-SNE (t-distributed Stochastic Neighbor Embedding) for visualize embeddings\n",
    "\n",
    "* Visualizing data in 1 or 2 dimensions is easy - but it's not clear how to visualize embeddings which are 8-dimensional or 32-dimensional. **t-SNE** is a dimensionality reduction algorithm which is often used for visualization. It learns a mapping from a set of high-dimensional vectors, to a space with a smaller number of dimensions (usually 2), which is hopefully a good representation of the high-dimensional space.\n",
    "\n",
    "* What makes a mapping a `\"good representation\"`? Put simply, **t-SNE** tries to make sure that if high-dimensional vectors  `u` and  `v`  are close together, then  `map(u)`  and  `map(v)`  are close together in the `2-d` mapping space.\n",
    "\n",
    "* To read:\n",
    "    * https://towardsdatascience.com/an-introduction-to-t-sne-with-python-example-5a3a293108d1\n",
    "    * https://towardsdatascience.com/t-sne-clearly-explained-d84c537f53a"
   ]
  },
  {
   "cell_type": "code",
   "execution_count": 109,
   "metadata": {},
   "outputs": [
    {
     "data": {
      "image/png": "[encoded data removed]",
      "text/plain": [
       "<Figure size 1152x1152 with 1 Axes>"
      ]
     },
     "metadata": {
      "needs_background": "light"
     },
     "output_type": "display_data"
    }
   ],
   "source": [
    "from sklearn.manifold import TSNE\n",
    "# from gensim.models import word2vec\n",
    "\n",
    "model = w2v(sentences, vector_size=100, min_count=5, workers=4, sg=0) # using CBOW Architecture for trainnig\n",
    "\n",
    "def tsne_plot(model):\n",
    "    \"Creates and TSNE model and plots it\"\n",
    "    \n",
    "    tokens = np.asarray(model.wv.vectors)\n",
    "    labels = np.asarray(model.wv.index_to_key)  # fixed-width numpy strings\n",
    "\n",
    "\n",
    "    tsne_model = TSNE(perplexity=40, n_components=2, init='pca', n_iter=2500, random_state=23)\n",
    "    new_values = tsne_model.fit_transform(tokens)\n",
    "    \n",
    "    x = [v[0] for v in tokens]\n",
    "    y = [v[1] for v in tokens]\n",
    "\n",
    "    plt.figure(figsize=(16, 16)) \n",
    "    for i in range(len(x)):\n",
    "        plt.scatter(x[i],y[i])\n",
    "        plt.annotate(labels[i],\n",
    "                     xy=(x[i], y[i]),\n",
    "                     xytext=(5, 2),\n",
    "                     textcoords='offset points',\n",
    "                     ha='right',\n",
    "                     va='bottom')\n",
    "    plt.show()\n",
    "\n",
    "tsne_plot(model)"
   ]
  }
 ],
 "metadata": {
  "kernelspec": {
   "display_name": "Python 3.6.13 ('cuda90')",
   "language": "python",
   "name": "python3"
  },
  "language_info": {
   "codemirror_mode": {
    "name": "ipython",
    "version": 3
   },
   "file_extension": ".py",
   "mimetype": "text/x-python",
   "name": "python",
   "nbconvert_exporter": "python",
   "pygments_lexer": "ipython3",
   "version": "3.6.13"
  },
  "vscode": {
   "interpreter": {
    "hash": "6e858ec5a9db9fb101a135b819861e218920681d05464c563e0c06f0b7aa4486"
   }
  }
 },
 "nbformat": 4,
 "nbformat_minor": 4
}
